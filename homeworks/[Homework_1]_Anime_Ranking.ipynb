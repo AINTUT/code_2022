{
  "nbformat": 4,
  "nbformat_minor": 0,
  "metadata": {
    "colab": {
      "name": "[Homework 1]  Anime Ranking.ipynb",
      "provenance": [],
      "collapsed_sections": []
    },
    "kernelspec": {
      "name": "python3",
      "display_name": "Python 3"
    }
  },
  "cells": [
    {
      "cell_type": "markdown",
      "metadata": {
        "id": "vv49axWeylsB"
      },
      "source": [
        "This notebook is freely available for redistribution under the [GPL-3.0 license](https://choosealicense.com/licenses/gpl-3.0/).\n",
        "\n",
        "Author: 蘇嘉冠"
      ]
    },
    {
      "cell_type": "markdown",
      "metadata": {
        "id": "Na0_QjevL_F5"
      },
      "source": [
        "# [Homework 1] 2021 日本動畫人氣賞"
      ]
    },
    {
      "cell_type": "markdown",
      "metadata": {
        "id": "qhAXdsc_Jbxb"
      },
      "source": [
        "![Mushoku Tensei: Jobless Reincarnation](https://i.imgur.com/K4uTzBY.png)\n",
        "（[圖片來源](https://gnn.gamer.com.tw/detail.php?sn=204559)）\n",
        "\n",
        "2021 年推出了許多精彩好看的日本動畫，我們從 [Anime Corner](https://animecorner.me/) 得到網友票選的前 32 名的動畫，並依照排名順序分別將名稱（`animes`）以及投票率（`votes`，單位為百分比）儲存在 list 中。請試著獲得以下資訊：\n",
        "- 名稱含有 `season`（**不分大小寫**）的動畫有幾部？（`season_count`）\n",
        "- 陰陽眼見子（`Mieruko-chan`）排名第幾？（`mieruko_ranking`）\n",
        "    - 附註：list 的第 0 個動畫我們定義為第 1 名\n",
        "- 最長的動畫名稱為何？（`longest_anime`）\n",
        "    - 附註：名稱的長度以**字元的數量**來定義\n",
        "- 承上題，該名稱總共含有幾個英文字母（**大小寫都算**）？（`alphabet_count`）\n",
        "- 所有名稱長度在 8（含） 到 15（含） 之間的動畫投票率總和為多少？（`sum_medium_vote`）\n",
        "    - 附註：名稱的長度以**字元的數量**來定義\n",
        "    - 提示：使用 *zip()* 會讓你更方便得到結果\n",
        "\n"
      ]
    },
    {
      "cell_type": "code",
      "source": [
        "animes = [\"Mushoku Tensei: Jobless Reincarnation\", \"Fruits Basket The Final Season\", \"Re:ZERO -Starting Life in Another World- Season 2\", \"Attack on Titan Final Season\", \"Vivy -Fluorite Eye’s Song-\", \"That Time I Got Reincarnated as a Slime Season 2\", \"Tokyo Revengers\", \"The Quintessential Quintuplets 2\", \"The Duke of Death and His Maid\", \"TSUKIMICHI -Moonlit Fantasy-\", \"The Case Study of Vanitas\", \"Horimiya\", \"Mieruko-chan\", \"The World’s Finest Assassin Gets Reincarnated in Another World as an Aristocrat\", \"Miss Kobayashi’s Dragon Maid S\", \"To Your Eternity\", \"Komi Can’t Communicate\", \"86 EIGHTY-SIX\", \"Blue Period\", \"DON’T TOY WITH ME, MISS NAGATORO\", \"Demon Slayer: Kimetsu no Yaiba Mugen Train Arc\", \"Higehiro: After Being Rejected, I Shaved and Took in a High School Runaway\", \"SHADOWS HOUSE\", \"Remake Our Life!\", \"Girlfriend, Girlfriend\", \"Moriarty the Patriot Part 2\", \"My Hero Academia Season 5\", \"ODDTAXI\", \"Kemono Jihen\", \"SSSS.Dynazenon\", \"Kageki Shojo!!\", \"The Heike Story\"]\n",
        "print(animes)"
      ],
      "metadata": {
        "id": "6qgp5s67V3fz"
      },
      "execution_count": null,
      "outputs": []
    },
    {
      "cell_type": "code",
      "source": [
        "votes = [6.72, 6.09, 5.68, 5.65, 5.59, 5.08, 4.76, 4.6, 4.27, 4.17, 4.12, 4.11, 4.08, 3.41, 3.21, 3.0, 2.92, 2.9, 2.52, 2.28, 2.2, 1.85, 1.81, 1.71, 1.67, 1.21, 1.2, 1.15, 1.1, 0.34, 0.31, 0.29]\n",
        "print(votes)"
      ],
      "metadata": {
        "id": "CJK8xKfViOlq"
      },
      "execution_count": null,
      "outputs": []
    },
    {
      "cell_type": "code",
      "source": [
        "# PLEASE MODIFY CODE BELOW\n",
        "season_count = 0\n",
        "print(\"The number of animes that contain `season`:\", season_count)"
      ],
      "metadata": {
        "id": "UJf4Vih6ZOQU"
      },
      "execution_count": null,
      "outputs": []
    },
    {
      "cell_type": "code",
      "source": [
        "# PLEASE MODIFY CODE BELOW\n",
        "mieruko_ranking = 0\n",
        "\n",
        "print(\"The ranknig of Mieruko-chan is\", mieruko_ranking)"
      ],
      "metadata": {
        "id": "W7mYXrsHaZrd"
      },
      "execution_count": null,
      "outputs": []
    },
    {
      "cell_type": "code",
      "source": [
        "# PLEASE MODIFY CODE BELOW\n",
        "longest_anime = \"\"\n",
        "\n",
        "print(\"The anime that has longest name:\", longest_anime)"
      ],
      "metadata": {
        "id": "7iLqRmwbewYZ"
      },
      "execution_count": null,
      "outputs": []
    },
    {
      "cell_type": "code",
      "source": [
        "# PLEASE MODIFY CODE BELOW\n",
        "alphabet_count = 0\n",
        "\n",
        "print(\"The alphabet count for longest anime:\", alphabet_count)"
      ],
      "metadata": {
        "id": "cB91KljPgUGk"
      },
      "execution_count": null,
      "outputs": []
    },
    {
      "cell_type": "code",
      "source": [
        "# PLEASE MODIFY CODE BELOW\n",
        "sum_medium_vote = 0.0\n",
        "\n",
        "print(\"The total vote rate for all medium animes:\", sum_medium_vote)"
      ],
      "metadata": {
        "id": "Se0YotxMjff6"
      },
      "execution_count": null,
      "outputs": []
    },
    {
      "cell_type": "markdown",
      "metadata": {
        "id": "rirup-SsUfy7"
      },
      "source": [
        "## 答案上傳區\n",
        "\n",
        "三區塊的功能分別如下：\n",
        "1. 請將 `sid` 改為你的學號、`credential` 改為你收到的密碼\n",
        "2. 執行上傳答案的程式，提交後你會看到這次上傳的每一題答案是否正確（`PASS` 為答對，`FAIL` 為答錯）\n",
        "3. 查看你所有作業的答題狀況"
      ]
    },
    {
      "cell_type": "code",
      "metadata": {
        "id": "ZjoDN_KfVKs5"
      },
      "source": [
        "sid = \"\" # PLEASE MODIFY\n",
        "credential = \"\""
      ],
      "execution_count": 8,
      "outputs": []
    },
    {
      "cell_type": "code",
      "metadata": {
        "id": "qWGZEQt5Vuqd"
      },
      "source": [
        "import json\n",
        "import requests\n",
        "\n",
        "def submit_answers(\n",
        "    sid,\n",
        "    credential,\n",
        "    ordinal,\n",
        "    answers,\n",
        "    api_url=\"https://aintut2022.herokuapp.com\",\n",
        "    api_version=\"v1\",\n",
        "):\n",
        "    request_url = \"{}/{}/assignments\".format(api_url, api_version)\n",
        "\n",
        "    res = requests.post(request_url, data={\n",
        "        \"sid\": sid,\n",
        "        \"credential\": credential,\n",
        "        \"ordinal\": ordinal,\n",
        "        \"answers\": answers,\n",
        "    })\n",
        "\n",
        "    data = res.json()\n",
        "\n",
        "    if res.status_code >= 400:\n",
        "        print(\"\\x1b[31m{}\\x1b[0m\".format(json.dumps(data, indent=4)))\n",
        "        return\n",
        "\n",
        "    correctnesses = data[\"correctnesses\"]\n",
        "    for answer, correctness in zip(answers, correctnesses):\n",
        "        passd_text = \\\n",
        "            \"[\\033[92mPASS\\x1b[0m]\" if correctness else \"[\\x1b[31mFAIL\\x1b[0m]\"\n",
        "        print(\"{} Your answer: {}\".format(passd_text, answer))\n",
        "\n",
        "answers = [\n",
        "    season_count,\n",
        "    mieruko_ranking,\n",
        "    longest_anime,\n",
        "    alphabet_count,\n",
        "    sum_medium_vote,\n",
        "]\n",
        "\n",
        "submit_answers(sid, credential, 1, answers)"
      ],
      "execution_count": null,
      "outputs": []
    },
    {
      "cell_type": "code",
      "metadata": {
        "id": "RykfoTwwh92V"
      },
      "source": [
        "def query_assignments(\n",
        "    sid,\n",
        "    credential,\n",
        "    api_url=\"https://aintut2022.herokuapp.com\",\n",
        "    api_version=\"v1\",\n",
        "):\n",
        "    request_url = \"{}/{}/assignments\".format(api_url, api_version)\n",
        "\n",
        "    res = requests.get(request_url, params={\n",
        "        \"sid\": sid,\n",
        "        \"credential\": credential,\n",
        "    })\n",
        "\n",
        "    data = res.json()\n",
        "\n",
        "    if res.status_code >= 400:\n",
        "        print(\"\\x1b[31m{}\\x1b[0m\".format(json.dumps(data, indent=4)))\n",
        "        return\n",
        "\n",
        "    assignments = sorted(data, key=lambda d: d[\"ordinal\"])\n",
        "\n",
        "    for assignment in assignments:\n",
        "        ordinal = assignment[\"ordinal\"]\n",
        "        correctnesses = \" \".join([\n",
        "            \"\\033[92mPASS\\x1b[0m\" if c else \"\\x1b[31mFAIL\\x1b[0m\"\n",
        "            for c in assignment[\"correctnesses\"]\n",
        "        ])\n",
        "        print(\"Assignment {}: {}\".format(ordinal, correctnesses))\n",
        "\n",
        "\n",
        "query_assignments(sid, credential)"
      ],
      "execution_count": null,
      "outputs": []
    }
  ]
}