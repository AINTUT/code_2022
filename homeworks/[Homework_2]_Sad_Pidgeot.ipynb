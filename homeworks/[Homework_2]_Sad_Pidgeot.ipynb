{
  "nbformat": 4,
  "nbformat_minor": 0,
  "metadata": {
    "colab": {
      "name": "[Homework 2] Sad Pidgeot.ipynb",
      "provenance": [],
      "collapsed_sections": []
    },
    "kernelspec": {
      "name": "python3",
      "display_name": "Python 3"
    }
  },
  "cells": [
    {
      "cell_type": "markdown",
      "metadata": {
        "id": "vv49axWeylsB"
      },
      "source": [
        "This notebook is freely available for redistribution under the [GPL-3.0 license](https://choosealicense.com/licenses/gpl-3.0/).\n",
        "\n",
        "Author: 蘇嘉冠"
      ]
    },
    {
      "cell_type": "markdown",
      "metadata": {
        "id": "Na0_QjevL_F5"
      },
      "source": [
        "# [Homework 2] 失落的比雕"
      ]
    },
    {
      "cell_type": "markdown",
      "metadata": {
        "id": "qhAXdsc_Jbxb"
      },
      "source": [
        "![](https://i.imgur.com/Ox4o1A0.jpg)\n",
        "\n",
        "（[圖片來源](https://www.facebook.com/taiwanmemess/photos/a.273221860007935/712038099459640)）\n",
        "\n",
        "立志成為 Pokemon 大師的小智，20 年前在常磐森林與比雕道別後，就沒有再回來見過比雕了。非常難過的比雕，決定要自己去找小智。然而，一路上可能會遇到各種不同的 Pokemon，在情報不夠的情況下出發會遇到許多危險。今天我們幫比雕蒐集所有 Pokemon 的資料，並且試著獲得以下情報：\n",
        "- 所有 Pokemon 中最高的特攻（`Sp. Atk`）為多少？（`highest_sepcial_attack`）\n",
        "- 飛行系的比雕非常害怕電系 Pokemon。屬性（`Type 1` 或是 `Type 2`）為電系（`Electric`）的 Pokemon 總共有多少個？（`num_electric`）\n",
        "    - 附註：每個 Pokemon 的 `Type 1` 會跟 `Type 2` 不同\n",
        "- 速度超過比雕（`Pidgeot`）的 Pokemon 總共有多少個？（`num_super_fast`）\n",
        "- 如果比雕在路上遇到了噴火龍（`Charizard`）來阻撓，進入了對決模式。等級 90 的比雕對噴火龍使出了威力為 110 的特攻招式：暴風，這次攻擊會對噴火龍造成多少傷害？特攻的傷害計算方式請看公式一，小數點請忽略不計（`damage`）\n",
        "- 如果比雕不小心誤入了神獸洞窟，裡面住著所有的神獸 Pokemon，這時候策略應該是要先迎擊神獸裡綜合能力最低的一個，請問這個 Pokemon 的名字為何？綜合能力的運算方式如公式二（`weakest_legendary_pokemon`）\n",
        "\n",
        "所有 Pokemon 的資料為一個 `DataFrame` 型態的物件（名稱為 `df`），各個 column name 的意義如下：\n",
        "- `#`：Pokemon 的編號\n",
        "- `Name`：Pokemon 的名字\n",
        "- `Type 1`：Pokemon 的第一屬性\n",
        "- `Type 2`：Pokemon 的第二屬性\n",
        "- `Total`：請忽略\n",
        "- `HP`：Pokemon 的血量\n",
        "- `Attack`：Pokemon 的物攻（物理攻擊力）\n",
        "- `Defense`：Pokemon 的物防（物理防禦力）\n",
        "- `Sp. Atk`：Pokemon 的特攻（特殊攻擊力）\n",
        "- `Sp. Def`：Pokemon 的特防（特殊防禦力）\n",
        "- `Speed`：Pokemon 的速度\n",
        "- `Generation`：該 Pokemon 屬於第幾個世代\n",
        "- `Legendary`：該 Pokemon 是否為神獸\n",
        "\n",
        "（[資料來源](https://gist.github.com/armgilles/194bcff35001e7eb53a2a8b441e8b2c6)）\n",
        "\n",
        "公式一（修改自 [Bulbagarden](https://bulbapedia.bulbagarden.net/wiki/Damage)）：如果 A 對 B 使出了威力為 `power` 的特攻，A 的等級為 `level`、特攻數值為 `special_attack`，B 的特防數值為 `special_defense`，在不考慮屬性加成的情況下，傷害為：\n",
        "\n",
        "$damage = ((\\frac{2 * level}{5} + 2) * power * \\frac{special\\_attack}{special\\_defense}) / 50 + 2$\n",
        "\n",
        "公式二：Pokemon 綜合能力的運算方式如下：\n",
        "\n",
        "$綜合能力 = 0.1 * 血量 + 0.4 * 物攻 + 0.3 * 物防 + 0.7 * 特攻 + 0.5 * 特防 + 0.6 * 速度$"
      ]
    },
    {
      "cell_type": "code",
      "metadata": {
        "id": "ROqXoEqcLL9Z"
      },
      "source": [
        "!pip install numpy pandas"
      ],
      "execution_count": null,
      "outputs": []
    },
    {
      "cell_type": "code",
      "metadata": {
        "id": "cLStux2DLQqw"
      },
      "source": [
        "import numpy as np\n",
        "import pandas as pd"
      ],
      "execution_count": 2,
      "outputs": []
    },
    {
      "cell_type": "code",
      "metadata": {
        "id": "e-nsfllMLSbw"
      },
      "source": [
        "df = pd.read_csv(\n",
        "    \"https://raw.githubusercontent.com/AINTUT/code_2022/main/datasets/\"\n",
        "    \"pokemon.csv\",\n",
        ")"
      ],
      "execution_count": 3,
      "outputs": []
    },
    {
      "cell_type": "code",
      "source": [
        "# Print the first 10 rows.\n",
        "print(df.head(10))"
      ],
      "metadata": {
        "id": "jBLKnpP5tYVa"
      },
      "execution_count": null,
      "outputs": []
    },
    {
      "cell_type": "code",
      "source": [
        "# Print all column names\n",
        "print(list(df))"
      ],
      "metadata": {
        "id": "NUBmB9cYtd27"
      },
      "execution_count": null,
      "outputs": []
    },
    {
      "cell_type": "code",
      "source": [
        "highest_sepcial_attack = 0 # PLEASE MODIFY\n",
        "\n",
        "print(\"Highest Special Attack =\", highest_sepcial_attack)"
      ],
      "metadata": {
        "id": "rrYFwSgCGyaj"
      },
      "execution_count": null,
      "outputs": []
    },
    {
      "cell_type": "code",
      "metadata": {
        "id": "4BB7RmRVTG4o"
      },
      "source": [
        "# PLEASE MODIFY CODE BELOW.\n",
        "num_electric = 0\n",
        "\n",
        "print(\"Number of Pokemons Whose Type is Electric =\", num_electric)"
      ],
      "execution_count": null,
      "outputs": []
    },
    {
      "cell_type": "code",
      "metadata": {
        "id": "9tFG7mguWz-t"
      },
      "source": [
        "# PLEASE MODIFY CODE BELOW.\n",
        "num_super_fast = 0\n",
        "\n",
        "print(\"Number of Pokemons that are super fast =\", num_super_fast)"
      ],
      "execution_count": null,
      "outputs": []
    },
    {
      "cell_type": "code",
      "metadata": {
        "id": "WC5RlLxDmwE4"
      },
      "source": [
        "def calculate_damage(attcker, victim, level, power):\n",
        "    # PLEASE MODIFY CODE BELOW.\n",
        "    damage = 0.0\n",
        "\n",
        "    return int(damage)\n",
        "\n",
        "attacker = df[df[\"Name\"] == \"Pidgeot\"].iloc[0]\n",
        "victim = df[df[\"Name\"] == \"Charizard\"].iloc[0]\n",
        "damage = calculate_damage(attacker, victim, 90, 110)\n",
        "\n",
        "print(\"The damage on Charizard =\", damage)"
      ],
      "execution_count": null,
      "outputs": []
    },
    {
      "cell_type": "code",
      "metadata": {
        "id": "7ZboMQnHrLTD"
      },
      "source": [
        "ABILITY_COLUMNS = [\"HP\", \"Attack\", \"Defense\", \"Sp. Atk\", \"Sp. Def\", \"Speed\"]\n",
        "ABILITY_WEIGHTS = [0.1, 0.4, 0.3, 0.7, 0.5, 0.6]\n",
        "\n",
        "legendary_pokemons = df[df[\"Legendary\"]].reindex()\n",
        "abilities = legendary_pokemons[ABILITY_COLUMNS].to_numpy()\n",
        "composited_abilities = [0.0] # PLEASE MODIFY\n",
        "index = np.argmin(composited_abilities)\n",
        "weakest_legendary_pokemon = \"Pikachu\" # PLEASE MODIFY\n",
        "\n",
        "print(\n",
        "    \"The legendary Pokemon that has lowest composited ability =\",\n",
        "    weakest_legendary_pokemon,\n",
        ")"
      ],
      "execution_count": null,
      "outputs": []
    },
    {
      "cell_type": "markdown",
      "metadata": {
        "id": "rirup-SsUfy7"
      },
      "source": [
        "## 答案上傳區\n",
        "\n",
        "三區塊的功能分別如下：\n",
        "1. 請將 `sid` 改為你的學號、`credential` 改為你收到的密碼\n",
        "2. 執行上傳答案的程式，提交後你會看到這次上傳的每一題答案是否正確（`PASS` 為答對，`FAIL` 為答錯）\n",
        "3. 查看你所有作業的答題狀況"
      ]
    },
    {
      "cell_type": "code",
      "metadata": {
        "id": "ZjoDN_KfVKs5"
      },
      "source": [
        "sid = \"\" # PLEASE MODIFY\n",
        "credential = \"\" # PLEASE MODIFY"
      ],
      "execution_count": 12,
      "outputs": []
    },
    {
      "cell_type": "code",
      "metadata": {
        "id": "qWGZEQt5Vuqd"
      },
      "source": [
        "import json\n",
        "import requests\n",
        "\n",
        "def submit_answers(\n",
        "    sid,\n",
        "    credential,\n",
        "    ordinal,\n",
        "    answers,\n",
        "    api_url=\"https://aintut2022.herokuapp.com\",\n",
        "    api_version=\"v1\",\n",
        "):\n",
        "    request_url = \"{}/{}/assignments\".format(api_url, api_version)\n",
        "\n",
        "    res = requests.post(request_url, data={\n",
        "        \"sid\": sid,\n",
        "        \"credential\": credential,\n",
        "        \"ordinal\": ordinal,\n",
        "        \"answers\": answers,\n",
        "    })\n",
        "\n",
        "    data = res.json()\n",
        "\n",
        "    if res.status_code >= 400:\n",
        "        print(\"\\x1b[31m{}\\x1b[0m\".format(json.dumps(data, indent=4)))\n",
        "        return\n",
        "\n",
        "    correctnesses = data[\"correctnesses\"]\n",
        "    for answer, correctness in zip(answers, correctnesses):\n",
        "        passd_text = \\\n",
        "            \"[\\033[92mPASS\\x1b[0m]\" if correctness else \"[\\x1b[31mFAIL\\x1b[0m]\"\n",
        "        print(\"{} Your answer: {}\".format(passd_text, answer))\n",
        "\n",
        "answers = [\n",
        "    highest_sepcial_attack,\n",
        "    num_electric,\n",
        "    num_super_fast,\n",
        "    damage,\n",
        "    weakest_legendary_pokemon,\n",
        "]\n",
        "\n",
        "submit_answers(sid, credential, 2, answers)"
      ],
      "execution_count": null,
      "outputs": []
    },
    {
      "cell_type": "code",
      "metadata": {
        "id": "RykfoTwwh92V"
      },
      "source": [
        "import json\n",
        "import requests\n",
        "\n",
        "def query_assignments(\n",
        "    sid,\n",
        "    credential,\n",
        "    api_url=\"https://aintut2022.herokuapp.com\",\n",
        "    api_version=\"v1\",\n",
        "):\n",
        "    request_url = \"{}/{}/assignments\".format(api_url, api_version)\n",
        "\n",
        "    res = requests.get(request_url, params={\n",
        "        \"sid\": sid,\n",
        "        \"credential\": credential,\n",
        "    })\n",
        "\n",
        "    data = res.json()\n",
        "\n",
        "    if res.status_code >= 400:\n",
        "        print(\"\\x1b[31m{}\\x1b[0m\".format(json.dumps(data, indent=4)))\n",
        "        return\n",
        "\n",
        "    assignments = sorted(data, key=lambda d: d[\"ordinal\"])\n",
        "\n",
        "    for assignment in assignments:\n",
        "        ordinal = assignment[\"ordinal\"]\n",
        "        correctnesses = \" \".join([\n",
        "            \"\\033[92mPASS\\x1b[0m\" if c else \"\\x1b[31mFAIL\\x1b[0m\"\n",
        "            for c in assignment[\"correctnesses\"]\n",
        "        ])\n",
        "        print(\"Assignment {}: {}\".format(ordinal, correctnesses))\n",
        "\n",
        "\n",
        "query_assignments(sid, credential)"
      ],
      "execution_count": null,
      "outputs": []
    }
  ]
}