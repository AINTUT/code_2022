{
  "nbformat": 4,
  "nbformat_minor": 0,
  "metadata": {
    "colab": {
      "name": "Midterm.ipynb",
      "provenance": [],
      "collapsed_sections": []
    },
    "kernelspec": {
      "name": "python3",
      "display_name": "Python 3"
    }
  },
  "cells": [
    {
      "cell_type": "markdown",
      "metadata": {
        "id": "vv49axWeylsB"
      },
      "source": [
        "This notebook is freely available for redistribution under the [GPL-3.0 license](https://choosealicense.com/licenses/gpl-3.0/).\n",
        "\n",
        "Authors: 蘇嘉冠"
      ]
    },
    {
      "cell_type": "markdown",
      "metadata": {
        "id": "Na0_QjevL_F5"
      },
      "source": [
        "# 人工智慧與工程應用 2022 期中考"
      ]
    },
    {
      "cell_type": "markdown",
      "metadata": {
        "id": "AoIhbLJDFBbi"
      },
      "source": [
        "## 答題方式說明\n",
        "\n",
        "1. 總共有 6 個題組，每個題組有數小題。總共 25 小題，每題 4 分。\n",
        "2. 請將 `sid` 改為你的學號， `credential` 改為你的密碼，並且先執行以下 3 個關於答案上傳、查詢的程式碼區塊。\n",
        "3. 每個題組完成後，請記得執行該題組的答案上傳區。答案上傳的期限為  `2021/04/20 20:30`。\n",
        "4. 執行答題狀況查詢的程式區塊，可以看到你目前的答題狀況。在 `2021/04/20 20:30` 之後，你還可以看到答對與答錯，以及得到的總分。\n",
        "5. 請保存好你的這份檔案！\n",
        "6. 前三個題組的題目相對比較簡單，請盡量把握囉！"
      ]
    },
    {
      "cell_type": "code",
      "metadata": {
        "id": "ZjoDN_KfVKs5"
      },
      "source": [
        "sid = \"\" # PLEASE MODIFY\n",
        "credential = \"\" # PLEASE MODIFY"
      ],
      "execution_count": null,
      "outputs": []
    },
    {
      "cell_type": "code",
      "metadata": {
        "id": "qWGZEQt5Vuqd"
      },
      "source": [
        "import json\n",
        "import requests\n",
        "\n",
        "def submit_answers(\n",
        "    sid,\n",
        "    credential,\n",
        "    ordinal,\n",
        "    answers,\n",
        "    api_url=\"https://aintut2022.herokuapp.com\",\n",
        "    api_version=\"v1\",\n",
        "):\n",
        "    request_url = \"{}/{}/midterm\".format(api_url, api_version)\n",
        "\n",
        "    res = requests.post(request_url, data={\n",
        "        \"sid\": sid,\n",
        "        \"ordinal\": ordinal,\n",
        "        \"answers\": answers,\n",
        "        \"credential\": credential,\n",
        "    })\n",
        "\n",
        "    data = res.json()\n",
        "\n",
        "    if res.status_code >= 400:\n",
        "        print(\"\\x1b[31m{}\\x1b[0m\".format(json.dumps(data, indent=4)))\n",
        "        return\n",
        "\n",
        "    print(\"You successully submit answers for section {}\".format(\n",
        "        ordinal,\n",
        "    ))\n",
        "    for idx, answer in enumerate(answers):\n",
        "        print(\"{}-{}: {}\".format(ordinal, idx + 1, answer))"
      ],
      "execution_count": null,
      "outputs": []
    },
    {
      "cell_type": "code",
      "metadata": {
        "id": "RykfoTwwh92V"
      },
      "source": [
        "import json\n",
        "import requests\n",
        "\n",
        "def query_midterm(\n",
        "    sid,\n",
        "    credential,\n",
        "    api_url=\"https://aintut2022.herokuapp.com\",\n",
        "    api_version=\"v1\",\n",
        "):\n",
        "    request_url = \"{}/{}/midterm\".format(api_url, api_version)\n",
        "\n",
        "    answers_list = []\n",
        "    correctnesses_list = []\n",
        "    for ordinal in range(1, 6 + 1):\n",
        "        res = requests.get(request_url, params={\n",
        "            \"sid\": sid,\n",
        "            \"ordinal\": ordinal,\n",
        "            \"credential\": credential,\n",
        "        })\n",
        "\n",
        "        data = res.json()\n",
        "\n",
        "        if res.status_code >= 400:\n",
        "            print(\"\\x1b[31m{}\\x1b[0m\".format(json.dumps(data, indent=4)))\n",
        "            return\n",
        "\n",
        "        answers_list.append(data[\"answers\"])\n",
        "\n",
        "        if \"correctnesses\" in data:\n",
        "            correctnesses_list.append(data[\"correctnesses\"])\n",
        "\n",
        "    show_correctness = len(answers_list) == len(correctnesses_list)\n",
        "    num_correctnesses = 0\n",
        "\n",
        "    for ordinal_idx, answers in enumerate(answers_list):\n",
        "        print(\"== Your submitted answers for section {} == \".format(\n",
        "            ordinal_idx + 1,\n",
        "        ))\n",
        "        if not show_correctness:\n",
        "            for answer_idx, answer in enumerate(answers):\n",
        "                print(\"{}-{}: {}\".format(\n",
        "                    ordinal_idx + 1,\n",
        "                    answer_idx + 1,\n",
        "                    answer,\n",
        "                ))\n",
        "        else:\n",
        "            correctnesses = correctnesses_list[ordinal_idx]\n",
        "            for answer_idx, (answer, correctness) \\\n",
        "                in enumerate(zip(answers, correctnesses)):\n",
        "                    if correctness:\n",
        "                        correct_text = \"\\033[92mPASS\\x1b[0m\"\n",
        "                        num_correctnesses += 1\n",
        "                    else:\n",
        "                        correct_text = \"\\x1b[31mFAIL\\x1b[0m\"\n",
        "                    print(\"{} {}-{}: {}\".format(\n",
        "                        correct_text,\n",
        "                        ordinal_idx + 1,\n",
        "                        answer_idx + 1,\n",
        "                        answer,\n",
        "                    ))\n",
        "\n",
        "    if show_correctness:\n",
        "        print(\"Your total score for midterm: {}\".format(4 * num_correctnesses))"
      ],
      "execution_count": null,
      "outputs": []
    },
    {
      "cell_type": "markdown",
      "metadata": {
        "id": "5gQYo_3PGOva"
      },
      "source": [
        "### 答題狀況查詢"
      ]
    },
    {
      "cell_type": "code",
      "metadata": {
        "id": "O0LgSgvIGqGk"
      },
      "source": [
        "query_midterm(sid, credential)"
      ],
      "execution_count": null,
      "outputs": []
    },
    {
      "cell_type": "markdown",
      "metadata": {
        "id": "qhAXdsc_Jbxb"
      },
      "source": [
        "## 題組（一）：基本觀念\n",
        "\n",
        "這裡的題目皆為單選題，請將答案填為 `\"A\"`、`\"B\"`、`\"C\"` 或 `\"D\"`"
      ]
    },
    {
      "cell_type": "markdown",
      "source": [
        "(1) 下列何者不是 Meachine Learning 的情境? （`answer_1_1`）\n",
        "\n",
        "- (A) Transfer Learning\n",
        "- (B) Recursive Learning\n",
        "- (C) Supervised Learning\n",
        "- (D) Unsupervised Learning"
      ],
      "metadata": {
        "id": "RrKKYysuJbDk"
      }
    },
    {
      "cell_type": "code",
      "metadata": {
        "id": "MKwdrKBAjDyG"
      },
      "source": [
        "answer_1_1 = \"\" # PLEASE MODIFY"
      ],
      "execution_count": null,
      "outputs": []
    },
    {
      "cell_type": "markdown",
      "metadata": {
        "id": "a1ism7eNYhjT"
      },
      "source": [
        "(2) 下列機器學習任務中，何者屬於 regression 的任務？（`answer_1_2`）\n",
        "\n",
        "- (A) input：股市的狀況，output：某檔股票的股價\n",
        "- (B) input：一隻狗的圖片檔，output：這隻狗的種類\n",
        "- (C) input：車子引擎發動的聲音檔，output：引擎是否損壞\n",
        "- (D) input：一幅名畫的圖片檔，output：這幅名畫的作者"
      ]
    },
    {
      "cell_type": "code",
      "metadata": {
        "id": "_u-YfUcyjJ1u"
      },
      "source": [
        "answer_1_2 = \"\" # PLEASE MODIFY"
      ],
      "execution_count": null,
      "outputs": []
    },
    {
      "cell_type": "markdown",
      "metadata": {
        "id": "z7LCMwsRTB0y"
      },
      "source": [
        "(3) 哪一個不符合數學中 function 的定義? （`answer_1_3`）\n",
        "\n",
        "- (A) f1(\"cat\") = \"cat\", f1(\"dog\") = \"dog\"\n",
        "- (B) f2(\"cat\") = \"dog\", f2(\"dog\") = \"cat\"\n",
        "- (C) f3(10) = -10, f3(-10) = 10\n",
        "- (D) f4(10) = -10, f4(10) = 10"
      ]
    },
    {
      "cell_type": "code",
      "metadata": {
        "id": "JymGw856jMl1"
      },
      "source": [
        "answer_1_3 = \"\" # PLEASE MODIFY"
      ],
      "execution_count": null,
      "outputs": []
    },
    {
      "cell_type": "markdown",
      "metadata": {
        "id": "7y8hBrl5cK1N"
      },
      "source": [
        "(4) 我們想使用一個有花的圖片資料集，來訓練一個模型：對於輸入的圖片，模型會輸出杜鵑花、雛菊、百合花其中一種分類。請問這是哪種機器學習的任務? （`answer_1_4`）\n",
        "\n",
        "- (A) Regression\n",
        "- (B) Binary classification\n",
        "- (C) Multi-Class classification\n",
        "- (D) Structured learning"
      ]
    },
    {
      "cell_type": "code",
      "metadata": {
        "id": "xSgjWm9ljSRr"
      },
      "source": [
        "answer_1_4 = \"\" # PLEASE MODIFY"
      ],
      "execution_count": null,
      "outputs": []
    },
    {
      "cell_type": "markdown",
      "metadata": {
        "id": "parvn2i6cY2t"
      },
      "source": [
        "(5) 下列的機器學習任務中，何者的情境最可能為 Unsupervised Learning？（`answer_1_5`）\n",
        "\n",
        "- (A) 某農場為了導入農業自動化，將紀錄了五年各種給水紀錄（什麼時間、氣候、土讓性質該給多少水）整合，並且基於機器學習的方法開發出一套自動給水系統\n",
        "- (B) 某新創公司為了趕上 NFT 的熱潮，在網路上蒐集了大量圖文作家的圖片作品，並且訓練一個深度學習模型，可以隨機產生一張從未看過的圖片\n",
        "- (C) 某漁民為了漁業的永續發展，蒐集了 10 年的圖片，包含可抓補的、不可抓補的，並且根據這些資料來訓練模型，讓電腦做自動的分類\n",
        "- (D) 某電商平台為了了解使用者喜好，蒐集了各個使用者對不同商品的分數評價，，使用機器學習的方法來預測使用者對某商品的喜好程度\n"
      ]
    },
    {
      "cell_type": "code",
      "metadata": {
        "id": "URaVkbuojYHB"
      },
      "source": [
        "answer_1_5 = \"\" # PLEASE MODIFY"
      ],
      "execution_count": null,
      "outputs": []
    },
    {
      "cell_type": "markdown",
      "metadata": {
        "id": "qtsN2co5eWFz"
      },
      "source": [
        "(6) Self-Attention Layer 最常被套用在何種深度學習的模型架構? （`answer_1_6`）\n",
        "\n",
        "- (A) BERT\n",
        "- (B) Generative Adversarial Networks\n",
        "- (C) Recurrent Neural Networks\n",
        "- (D) Convolutional Neural Networks"
      ]
    },
    {
      "cell_type": "code",
      "metadata": {
        "id": "Id_tbw2djuLg"
      },
      "source": [
        "answer_1_6 = \"\" # PLEASE MODIFY"
      ],
      "execution_count": null,
      "outputs": []
    },
    {
      "cell_type": "markdown",
      "metadata": {
        "id": "xSz0oRZ8vWAU"
      },
      "source": [
        "(7) 我們使用機器學技術訓練了訓練了 4 個模型，並且將訓練的每個 epoch 相對應的 loss 畫成圖。想請問這四種模型中，哪個最可能已經收斂了？（`answer_1_7`）\n",
        "\n",
        "- (A) ![](https://i.imgur.com/HrJMJVx.jpg)\n",
        "- (B) ![](https://i.imgur.com/jtIa5wE.jpg)\n",
        "- (C) ![](https://i.imgur.com/OUZniaf.jpg)\n",
        "- (D) ![](https://i.imgur.com/mwQxmjU.jpg)"
      ]
    },
    {
      "cell_type": "code",
      "metadata": {
        "id": "4i2kK05FjwHk"
      },
      "source": [
        "answer_1_7 = \"\" # PLEASE MODIFY"
      ],
      "execution_count": null,
      "outputs": []
    },
    {
      "cell_type": "markdown",
      "metadata": {
        "id": "tvZuZsrPx5FV"
      },
      "source": [
        "(8) 我們用 Python 定義了 function `rescale()`，試問當參數 `number` 為以下何值時，會執行 `return number / 4` 這行程式碼？（`answer_1_8`）\n",
        "\n",
        "- (A) 6\n",
        "- (B) 15\n",
        "- (C) 10\n",
        "- (D) 9"
      ]
    },
    {
      "cell_type": "code",
      "metadata": {
        "id": "h3bhbdRL_gUY"
      },
      "source": [
        "def rescale(number):\n",
        "    if number % 2 == 0:\n",
        "        return number / 2\n",
        "    elif number % 5 == 0:\n",
        "        return number / 3\n",
        "    else:\n",
        "        return number / 4"
      ],
      "execution_count": null,
      "outputs": []
    },
    {
      "cell_type": "code",
      "metadata": {
        "id": "XST-dNPbj1aw"
      },
      "source": [
        "answer_1_8 = \"\" # PLEASE MODIFY"
      ],
      "execution_count": null,
      "outputs": []
    },
    {
      "cell_type": "markdown",
      "metadata": {
        "id": "oBjfpOjiE_Y6"
      },
      "source": [
        "(9) 請問執行以下 Python 程式碼後，`total = total + number` 這行程式碼總共被執行過幾次？（`answer_1_9`）\n",
        "\n",
        "- (A) 21\n",
        "- (B) 23\n",
        "- (C) 25\n",
        "- (D) 27"
      ]
    },
    {
      "cell_type": "code",
      "metadata": {
        "id": "27TrFZIGFLmT"
      },
      "source": [
        "total = 0\n",
        "number = 37\n",
        "\n",
        "while number > 0:\n",
        "    total = total + number\n",
        "\n",
        "    if number < 10:\n",
        "        number = number - 1\n",
        "    else:\n",
        "        number = number - 2"
      ],
      "execution_count": null,
      "outputs": []
    },
    {
      "cell_type": "code",
      "metadata": {
        "id": "H4Dql6y-kG6v"
      },
      "source": [
        "answer_1_9 = \"\" # PLEASE MODIFY"
      ],
      "execution_count": null,
      "outputs": []
    },
    {
      "cell_type": "markdown",
      "metadata": {
        "id": "0Yy-0iqoC0i4"
      },
      "source": [
        "(10) 請問執行下列 Python 程式碼後，`final_matrix` 的 shape 為多少？（`answer_1_10`）\n",
        "\n",
        "- (A) (3, 6)\n",
        "- (B) (2, 6)\n",
        "- (C) (2, 10)\n",
        "- (D) (3, 10)"
      ]
    },
    {
      "cell_type": "code",
      "metadata": {
        "id": "tvjzmL3tC1bE"
      },
      "source": [
        "!pip install numpy"
      ],
      "execution_count": null,
      "outputs": []
    },
    {
      "cell_type": "code",
      "metadata": {
        "id": "mARlvtttkN-f"
      },
      "source": [
        "import numpy as np\n",
        "\n",
        "matrix_1 = np.ones((3, 2))\n",
        "matrix_2 = np.ones((2, 6))\n",
        "matrix_3 = np.ones((6, 10))\n",
        "\n",
        "final_matrix = np.dot(np.dot(matrix_1, matrix_2), matrix_3)"
      ],
      "execution_count": null,
      "outputs": []
    },
    {
      "cell_type": "code",
      "metadata": {
        "id": "MJeHLsh6kKVn"
      },
      "source": [
        "answer_1_10 = \"\" # PLEASE MODIFY"
      ],
      "execution_count": null,
      "outputs": []
    },
    {
      "cell_type": "markdown",
      "metadata": {
        "id": "Vkn7XnXII7J-"
      },
      "source": [
        "### 題組（一）答案上傳區"
      ]
    },
    {
      "cell_type": "code",
      "metadata": {
        "id": "Bd0pH4XxI_F_"
      },
      "source": [
        "submit_answers(sid, credential, 1, [\n",
        "    answer_1_1,\n",
        "    answer_1_2,\n",
        "    answer_1_3,\n",
        "    answer_1_4,\n",
        "    answer_1_5,\n",
        "    answer_1_6,\n",
        "    answer_1_7,\n",
        "    answer_1_8,\n",
        "    answer_1_9,\n",
        "    answer_1_10,\n",
        "])"
      ],
      "execution_count": null,
      "outputs": []
    },
    {
      "cell_type": "markdown",
      "metadata": {
        "id": "5vz1unmmbghF"
      },
      "source": [
        "## 題組（二）：疫情確診統計\n",
        "\n",
        "![](https://megapx-assets.dcard.tw/images/ac7a8482-21bb-4798-b39f-42c4bfd96e4d/1280.png)\n",
        "\n",
        "\n",
        "([圖片來源](https://www.dcard.tw/f/meme/p/236036879))\n",
        "\n",
        "自從 2019 年底 Covid-19 疫情爆發以來，全球的確診數不斷上升，至今仍沒有完全結束。我們從 [Covid-19 Dashboard](https://gisanddata.maps.arcgis.com/apps/dashboards/bda7594740fd40299423467b48e9ecf6) 蒐集了 150 個國家的確診數（截至 2022/04/18），儲存在一個 list 中。請試著找出以下資訊：\n",
        "1. 最多確診的國家有多少人確診? （`max_num_case`）\n",
        "2. 這些國家的平均確診數為多少人？小數點請直接捨去（`mean_num_case`）\n",
        "3. 確診人數倒數第三少的國家有多少人確診？（`last_third_num_case`）\n"
      ]
    },
    {
      "cell_type": "code",
      "metadata": {
        "id": "vwBfXBdxfnmh"
      },
      "source": [
        "num_cases = [\n",
        "    38384, 9060923, 895465, 14994937, 100147, 98568, 1527326, 1149447, 16063,\n",
        "    8357, 15712088, 5421236, 1498834, 10432547, 18605, 3145251, 8179, 21903,\n",
        "    43044280, 10630, 29025, 792362, 835090, 3683042, 30252618, 21993, 949583,\n",
        "    115838, 974478, 997395, 132953, 35421, 59969, 1099736, 4046953, 564, 903908,\n",
        "    6901, 4389025, 65337, 813176, 128344, 4053217, 15735, 895775, 14055, 16420,\n",
        "    15927, 662207, 920119, 978665, 36784, 5985251, 19741, 1952326, 4031754,\n",
        "    1995986, 23437145, 3635886, 5727668, 1316, 865585, 17811199, 1694957,\n",
        "    1419729, 39990, 3517, 1653044, 1879480, 13777, 6787, 8520, 80632301,\n",
        "    2881904, 155866, 1787928, 212630, 161687, 29124, 323944, 30364, 22780,\n",
        "    3719485, 16792, 45865, 6557, 768794, 5040518, 3568616, 1394233, 752572,\n",
        "    1038668, 9069, 3530258, 21916961, 3882395, 139749, 112459, 837558, 17430,\n",
        "    16353495, 5715, 28509, 1113517, 103104, 1160300, 2177, 7206959, 6932,\n",
        "    3555739, 35513, 8194946, 6046, 19013, 1095613, 2323132, 844892, 366001,\n",
        "    27960919, 11627487, 145194, 10360, 7197, 1164381, 6039873, 9018, 21224,\n",
        "    3972963, 57263, 25198, 2302, 1049383, 9706, 42944, 140829, 11951, 521965,\n",
        "    31165, 7371466, 6089662, 2506879, 3238169, 172014, 27006, 13647, 2783,\n",
        "    988618, 2495996, 3741230, 28588,\n",
        "]"
      ],
      "execution_count": null,
      "outputs": []
    },
    {
      "cell_type": "code",
      "metadata": {
        "id": "PEO6k_tKgAFf"
      },
      "source": [
        "# PLEASE MODIFY CODE BELOW.\n",
        "\n",
        "max_num_case = 0\n",
        "print(\"The max number of confirmed cases = {}\".format(max_num_case))"
      ],
      "execution_count": null,
      "outputs": []
    },
    {
      "cell_type": "code",
      "metadata": {
        "id": "UAZPWL77g5fH"
      },
      "source": [
        "# PLEASE MODIFY CODE BELOW.\n",
        "\n",
        "mean_num_case = 0\n",
        "print(\"Average number of confirmed cases = {}\".format(mean_num_case))"
      ],
      "execution_count": null,
      "outputs": []
    },
    {
      "cell_type": "code",
      "metadata": {
        "id": "0PXdme-xhh_V"
      },
      "source": [
        "# PLEASE MODIFY CODE BELOW.\n",
        "\n",
        "last_third_num_case = 0\n",
        "print(\"The last third number of confirmed cases = {}\".format(last_third_num_case))"
      ],
      "execution_count": null,
      "outputs": []
    },
    {
      "cell_type": "markdown",
      "metadata": {
        "id": "FULggFt9JtYm"
      },
      "source": [
        "### 題組（二）答案上傳區"
      ]
    },
    {
      "cell_type": "code",
      "metadata": {
        "id": "8XrEKuyPJv3V"
      },
      "source": [
        "submit_answers(sid, credential, 2, [\n",
        "    max_num_case,\n",
        "    mean_num_case,\n",
        "    last_third_num_case,\n",
        "])"
      ],
      "execution_count": null,
      "outputs": []
    },
    {
      "cell_type": "markdown",
      "metadata": {
        "id": "0kVhS6KyKjB7"
      },
      "source": [
        "## 題組（三）不能業配の HowB8\n",
        "\n",
        "![](https://i.ytimg.com/vi/fWA3ckC5YeE/maxresdefault.jpg)\n",
        "\n",
        "（[圖片來源](https://www.youtube.com/watch?v=fWA3ckC5YeE)）\n",
        "\n",
        "HowB8 身為台灣最強的個人勢 VTuber，憑著中之人百萬訂閱的優勢，出道第一次直播就有 3,500 人同時收看的紀錄。然而由於中之人不能露出，原本想要業配的內容也必須婉轉的講出，不能讓觀眾直接發現是業配。\n",
        "\n",
        "今天，我們要來幫 HowB8：\n",
        "1. 將 HowB8 要講的台詞（`script`），轉成它真的想說的話，也就是將所有的 `這個好東西` 換成 `業配`，`我的朋友` 換成 `廠商`（`script_real`）\n",
        "2. 算一下，將 HowB8 的這段台詞（`script`），如果不包含標點符號，總共有幾個字？（`script_count`）\n",
        "\n",
        "附註：\n",
        "- 標點符號有： `.`、`，`、`。`、`！`、`？`\n",
        "- 例如：`哈哈，我真的好帥！` 這段話總共有 7 個字"
      ]
    },
    {
      "cell_type": "code",
      "metadata": {
        "id": "dDi121kkKuiE"
      },
      "source": [
        "script = \\\n",
        "    \"啊...哈哈哈！啊！哈哈！可...可惡...怎麼好像沒有聲音？\" \\\n",
        "    \"大家好我是浩逼八，哼我才不是什麼浩浩呢！首先呢要先來唱首歌，再來介紹我的朋友推薦的，\" \\\n",
        "    \"欸這個好東西！！這個好東西不是什麼奇怪的東西喔，我的朋友非常非常推薦。喔喔...啊啊...啦！\""
      ],
      "execution_count": null,
      "outputs": []
    },
    {
      "cell_type": "code",
      "metadata": {
        "id": "S2xtstZqNUGt"
      },
      "source": [
        "# PLEASE MODIFY CODE BELOW.\n",
        "\n",
        "script_real = \"\"\n",
        "\n",
        "print(script_real)"
      ],
      "execution_count": null,
      "outputs": []
    },
    {
      "cell_type": "code",
      "metadata": {
        "id": "9d8FPdD8R2Fr"
      },
      "source": [
        "# PLEASE MODIFY CODE BELOW.\n",
        "\n",
        "script_count = 0\n",
        "\n",
        "print(\"Number of pure words = {}\".format(script_count))"
      ],
      "execution_count": null,
      "outputs": []
    },
    {
      "cell_type": "markdown",
      "metadata": {
        "id": "rX1DXoS9KNAw"
      },
      "source": [
        "### 題組（三）答案上傳區"
      ]
    },
    {
      "cell_type": "code",
      "metadata": {
        "id": "9uLFP-lRKaAH"
      },
      "source": [
        "submit_answers(sid, credential, 3, [\n",
        "    script_real,\n",
        "    script_count,\n",
        "])"
      ],
      "execution_count": null,
      "outputs": []
    },
    {
      "cell_type": "markdown",
      "metadata": {
        "id": "CjaR68QWGi2h"
      },
      "source": [
        "## 題組（四）：MLB 打者大亂鬥\n",
        "\n",
        "![](https://memeprod.sgp1.digitaloceanspaces.com/user-wtf/1629424190093.jpg)\n",
        "\n",
        "（[圖片來源](https://memes.tw/wtf/438872)）\n",
        "\n",
        "MLB（美國職棒大聯盟）一直以來都是職業棒球的最高殿堂，是許多棒球選手的夢想。即使如願進入了 MLB，選手們仍是戰戰兢兢的完成每場比賽，因為每個球員的表現數據都會詳細記錄下來，會被當成未來是否續約、或是轉換球隊時的重要談判籌碼。\n",
        "\n",
        "我們從 [2022 MLB Player Stats](https://www.rotowire.com/baseball/stats.php) 蒐集了 100 位 MLB 打者的統計資料（截至 2022/04/18），每一個打者資料用一個 dict 來儲存，這 100 個球員的資料則為 list of dict。每個球員的 dict 的 key 所代表的意思為：\n",
        "- `Player`：球員名稱\n",
        "- `Team`：所屬球隊名稱\n",
        "- `AB`：打擊數（At Bat）\n",
        "- `H`：安打數（Hit）\n",
        "- `BB`：四壞保送數（Bases on Balls）\n",
        "- `SF`：犧牲高飛打數（Sacrifice Flies）\n",
        "- `HBP`：觸身球數（Hit by Pitch）\n",
        "\n",
        "請試著回答以下問題:\n",
        "1. `Amed Rosario` 以及 `Nathaniel Lowe` 這兩位選手總共打了幾隻安打（`H`）？（`num_hits_amed_nathan`）\n",
        "    - 提示：可以用 `find_player()` 這個函式找出某個名字的球員\n",
        "2. 所有紐約洋基隊（`NYY`）的球員總共獲得了幾次的四壞球保送（`BB`）？（`num_bb_nyy`）\n",
        "3. 打擊數（`AB`）小於大谷翔平（`Shohei Ohtani`）的選手總共有幾個？（`num_less_ohtani`）\n",
        "    - 附註：不包含等於喔！\n",
        "4. 所有球員的 OBP（上壘率）為何？OBP 的計算方式請參考公式一。答案在誤差範圍 0.01 內都算對（`avg_obp`）\n",
        "    - 提示：可以先寫好 `calc_obp()` 這個函式（輸入一個球員的 dict，輸出他的 OBP），再來計算全員的平均 OBP\n",
        "\n",
        "公式一：\n",
        "\n",
        "$OBP = \\frac {H + BB + HBP} {AB + BB + HBP + SF}$"
      ]
    },
    {
      "cell_type": "code",
      "metadata": {
        "id": "3CwSbMtG40as"
      },
      "source": [
        "import urllib.request\n",
        "import json\n",
        "\n",
        "# Load the MLB players data.\n",
        "with urllib.request.urlopen(\n",
        "    \"https://raw.githubusercontent.com/AINTUT/code_2022/main/datasets/\"\n",
        "    \"mlb_batters_2022.json\",\n",
        ") as url:\n",
        "    players = json.loads(url.read().decode())"
      ],
      "execution_count": null,
      "outputs": []
    },
    {
      "cell_type": "code",
      "source": [
        "# Print first 10 players in the list.\n",
        "for player in players[:10]:\n",
        "    print(player)"
      ],
      "metadata": {
        "id": "lpbsoP3D75en"
      },
      "execution_count": null,
      "outputs": []
    },
    {
      "cell_type": "code",
      "metadata": {
        "id": "4DqLqYbFseYq"
      },
      "source": [
        "# Find the corresponding player given its name.\n",
        "def find_player(players, name):\n",
        "    for player in players:\n",
        "        if player[\"Player\"] == name:\n",
        "            return player\n",
        "\n",
        "    return None\n",
        "\n",
        "# PLEASE MODIFY CODE BELOW.\n",
        "\n",
        "num_hits_amed_nathan = 0\n",
        "\n",
        "print(\"Number of hits by Amed and Nathaniel = {}\".format(num_hits_amed_nathan))"
      ],
      "execution_count": null,
      "outputs": []
    },
    {
      "cell_type": "code",
      "metadata": {
        "id": "elR9eesXGXq_"
      },
      "source": [
        "# PLEASE MODIFY CODE BELOW.\n",
        "\n",
        "num_bb_nyy = 0\n",
        "\n",
        "print(\"Number of BB got by NYY = {}\".format(num_bb_nyy))"
      ],
      "execution_count": null,
      "outputs": []
    },
    {
      "cell_type": "code",
      "metadata": {
        "id": "-ywX7UMtofg6"
      },
      "source": [
        "# PLEASE MODIFY CODE BELOW.\n",
        "\n",
        "num_less_ohtani = 0\n",
        "\n",
        "print(\"Number of plyaers whose AB is < Ohtani = {}\".format(num_less_ohtani))"
      ],
      "execution_count": null,
      "outputs": []
    },
    {
      "cell_type": "code",
      "source": [
        "# PLEASE MODIFY CODE BELOW.\n",
        "\n",
        "def calc_obp(player):\n",
        "    return 0.0\n",
        "\n",
        "avg_obp = 0.0\n",
        "\n",
        "print(\"Average OBP = {}\".format(avg_obp))"
      ],
      "metadata": {
        "id": "a6MqB7ZtGuwI"
      },
      "execution_count": null,
      "outputs": []
    },
    {
      "cell_type": "markdown",
      "metadata": {
        "id": "KF-dSY0VKrNP"
      },
      "source": [
        "### 題組（四）答案上傳區"
      ]
    },
    {
      "cell_type": "code",
      "metadata": {
        "id": "YmmvjB2UKtvX"
      },
      "source": [
        "submit_answers(sid, credential, 4, [\n",
        "    num_hits_amed_nathan,\n",
        "    num_bb_nyy,\n",
        "    num_less_ohtani,\n",
        "    avg_obp,\n",
        "])"
      ],
      "execution_count": null,
      "outputs": []
    },
    {
      "cell_type": "markdown",
      "metadata": {
        "id": "O6Fi87BdGoqY"
      },
      "source": [
        "## 題組（五）：決鬥！\n",
        "\n",
        "![](https://i.imgur.com/F0RgRm0.png)\n",
        "\n",
        "（[圖片來源](https://news.gamme.com.tw/917406)）\n",
        "\n",
        "[《遊戲王－怪獸之決鬥》](https://en.wikipedia.org/wiki/Yu-Gi-Oh!_Duel_Monsters)是日本漫畫家高橋和希所創作的漫畫的改編電視動畫，以卡片怪獸（遊戲王卡）決鬥為主線。動畫其中的一位主要角色：城之內，受邀參加了海馬集團主辦的比賽「決鬥城市」。沒有神之卡的他，如何在這殘酷的比賽中優勝呢？因此我們將幫助城之內，蒐集卡牌的資料，並且做事前的戰術分析！\n",
        "\n",
        "請試著分析以下資訊：\n",
        "1. 當城之內召喚出怪獸：人造人電子機器人（`Jinzo`）之後，對手將無法使用陷阱卡。請問卡片種類為陷阱卡（`Trap Card`）的數量總共有多少？（`num_trap_cards`）\n",
        "2. 在所有召喚等級為 4 的怪獸中，防禦力比漆黑豹戰士（`Panther Warrior`）的攻擊力低至少（含） 1,000 點的怪獸總共有幾個？（`num_panther_beats`）\n",
        "3. 對所有屬性為暗（`DARK`）的怪獸而言，平均召喚一隻暗屬性怪獸需要犧牲幾隻怪獸？召喚怪獸的規則請看公式二。答案在誤差範圍 0.01 內都算對（`num_avg_summon`）\n",
        "4. 在所有種族為獸戰士（`Beast-Warrior`）的怪獸中，綜合能力最高的怪獸名字為何？綜合能力的運算方式如公式三（`strongest_bw_monster`）\n",
        "\n",
        "所有遊戲王卡的資料為一個 `DataFrame` 型態的物件（名稱為 `df`），各個 column name 的意義如下：\n",
        "- `Name`：卡片的名字\n",
        "- `Type`：卡片的種類（例如：一般怪獸 `Normal Monster`、陷阱卡 `Trap Card` 等）\n",
        "- `Level`：卡片的召喚等級\n",
        "- `Race`：卡片的種族（例如：戰士族 `Warrior`、龍族 `Dragon` 等）\n",
        "- `Attribute`：卡片的屬性（例如：水屬性 `WATER`、火屬性 `FIRE` 等）\n",
        "- `ATK`：卡片的攻擊力\n",
        "- `DEF`：卡片的防禦力\n",
        "\n",
        "（[資料來源](https://www.kaggle.com/tathor/yugioh-trading-cards-dataset)）\n",
        "\n",
        "公式二：當要召喚怪獸時，依照怪獸的召喚等級，可能需要先犧牲掉一些數量的其他怪獸才能進行召喚\n",
        "- 召喚等級 4 或以下：不須犧牲任何怪獸\n",
        "- 召喚等級 5 或 6：犧牲 1 隻怪獸\n",
        "- 召喚等級 7 或以上：犧牲 2 隻怪獸\n",
        "\n",
        "公式三：怪獸綜合能力的運算方式如下：\n",
        "\n",
        "$綜合能力 = 300 * \\frac{1}{召喚等級} + 0.7 * 攻擊力 + 0.3 * 防禦力$"
      ]
    },
    {
      "cell_type": "code",
      "metadata": {
        "id": "bPReEeeMsFmP"
      },
      "source": [
        "!pip install numpy pandas"
      ],
      "execution_count": null,
      "outputs": []
    },
    {
      "cell_type": "code",
      "metadata": {
        "id": "4R0FLgRusNOW"
      },
      "source": [
        "import numpy as np\n",
        "import pandas as pd"
      ],
      "execution_count": null,
      "outputs": []
    },
    {
      "cell_type": "code",
      "metadata": {
        "id": "GSYu20OxsQOn"
      },
      "source": [
        "df = pd.read_csv(\n",
        "    \"https://raw.githubusercontent.com/AINTUT/code_2022/main/datasets/\"\n",
        "    \"yugioh_cards.csv\",\n",
        ")\n",
        "\n",
        "print(df)"
      ],
      "execution_count": null,
      "outputs": []
    },
    {
      "cell_type": "code",
      "metadata": {
        "id": "yop7zMFlB0lE"
      },
      "source": [
        "# PLEASE MODIFY CODE BELOW.\n",
        "\n",
        "num_trap_cards = 0\n",
        "\n",
        "print(\"Number of trap cards = {}\".format(num_trap_cards))"
      ],
      "execution_count": null,
      "outputs": []
    },
    {
      "cell_type": "code",
      "metadata": {
        "id": "P9WaQ2HmCTYG"
      },
      "source": [
        "# PLEASE MODIFY CODE BELOW.\n",
        "\n",
        "num_panther_beats = 0\n",
        "\n",
        "print(\"Number of monsters that Panther Warrior can beat = {}\".format(num_panther_beats))"
      ],
      "execution_count": null,
      "outputs": []
    },
    {
      "cell_type": "code",
      "metadata": {
        "id": "N1X54p1RClbg"
      },
      "source": [
        "# PLEASE MODIFY CODE BELOW.\n",
        "\n",
        "num_avg_summon = 0.0\n",
        "\n",
        "print(\"number of average summon = {}\".format(num_avg_summon))"
      ],
      "execution_count": null,
      "outputs": []
    },
    {
      "cell_type": "code",
      "metadata": {
        "id": "pmMHWH7zsZIE"
      },
      "source": [
        "# PLEASE MODIFY CODE BELOW.\n",
        "\n",
        "strongest_bw_monster = \"\"\n",
        "\n",
        "print(\"The strongest Beast-Warrio is {}\".format(strongest_bw_monster))"
      ],
      "execution_count": null,
      "outputs": []
    },
    {
      "cell_type": "markdown",
      "metadata": {
        "id": "K-sA1l9ZLREQ"
      },
      "source": [
        "### 題組（五）答案上傳區"
      ]
    },
    {
      "cell_type": "code",
      "metadata": {
        "id": "out6yiLuLCBy"
      },
      "source": [
        "submit_answers(sid, credential, 5, [\n",
        "    num_trap_cards,\n",
        "    num_panther_beats,\n",
        "    num_avg_summon,\n",
        "    strongest_bw_monster,\n",
        "])"
      ],
      "execution_count": null,
      "outputs": []
    },
    {
      "cell_type": "markdown",
      "metadata": {
        "id": "KqxqxXpPGxL4"
      },
      "source": [
        "## 題組（六）：耗油量預測\n",
        "\n",
        "市面上車子的各種型號，都會因為需求與功能的不同，擁有不同的性能與損耗率。今天我們蒐集到了各種車輛的資料（[來源](https://archive.ics.uci.edu/ml/datasets/Auto+MPG)），希望藉由這些資料，透過 Linear Regression 方法，用某一個 feature 來去預測車輛耗油量（`mpg`，單位為每加侖汽油可以行走的英哩數）。\n",
        "\n",
        "關於 Regression 相關的定義如下：\n",
        "- Function set：$f(x) = b + w_{1}x_{1}$\n",
        "- Loss function：$L(b, w_{1}) = \\frac{1}{2}\\sum_{i=1}^{n}(\\hat{y}^{(i)} - (b + w_{1}{x}^{(i)}_{1}))^2$\n",
        "\n",
        "我們有以下可能的 input feature：\n",
        "- `displacement`：排氣量\n",
        "- `horsepower`：馬力\n",
        "- `weight`：重量\n",
        "- `acceleration`：加速度\n",
        "\n",
        "請試著回答以下問題：\n",
        "1. 如果我們今天以 `horsepower` 作為 input feature，訓練之後的 $b$ 會是多少？答案在誤差範圍 0.01 內都算對（`horsepower_bias`）\n",
        "2. 在 4 個可能的 input feature 之中，會使得訓練出來的結果， testing data 的 MSE 最小的 input feature 會是哪個？（`smallest_mse_feature`）\n"
      ]
    },
    {
      "cell_type": "code",
      "metadata": {
        "id": "u8jdGoh-AZOp"
      },
      "source": [
        "!pip install numpy pandas matplotlib scikit-learn"
      ],
      "execution_count": null,
      "outputs": []
    },
    {
      "cell_type": "code",
      "metadata": {
        "id": "cHLvGRqRAdn6"
      },
      "source": [
        "import pandas as pd\n",
        "\n",
        "df = pd.read_csv(\n",
        "    \"https://raw.githubusercontent.com/AINTUT/code_2021/main/datasets/mpg.csv\",\n",
        ")\n",
        "\n",
        "print(df)"
      ],
      "execution_count": null,
      "outputs": []
    },
    {
      "cell_type": "code",
      "metadata": {
        "id": "UY_2NoQrAhAB"
      },
      "source": [
        "from sklearn.preprocessing import StandardScaler\n",
        "import numpy as np\n",
        "import matplotlib.pyplot as plt\n",
        "\n",
        "def predict(x, weights):\n",
        "    return np.dot(x, weights[1:]) + weights[0]\n",
        "\n",
        "def calculate_loss(y_gt, y_pred):\n",
        "    loss = ((y_gt - y_pred) ** 2).sum() / 2.0\n",
        "\n",
        "    return loss\n",
        "\n",
        "def apply_scaling(x_train, x_test):\n",
        "    scaler = StandardScaler()\n",
        "\n",
        "    x_train_std = scaler.fit_transform(x_train)\n",
        "    x_test_std = scaler.transform(x_test)\n",
        "\n",
        "    return x_train_std, x_test_std\n",
        "\n",
        "def fit(x_train, y_train, epoches, learning_rate):\n",
        "    weights = np.zeros(x_train.shape[1] + 1)\n",
        "    losses = []\n",
        "\n",
        "    for _ in range(epoches):\n",
        "        y_pred = predict(x_train, weights)\n",
        "\n",
        "        diff = y_train - y_pred\n",
        "        weights[0] = weights[0] - learning_rate * -diff.sum()\n",
        "        weights[1:] = weights[1:] - learning_rate * -x_train.T.dot(diff)\n",
        "\n",
        "        losses.append(calculate_loss(y_train, y_pred))\n",
        "\n",
        "    return weights, losses\n",
        "\n",
        "# This is a helper function, you may not need to call it.\n",
        "def losses_plot(losses):\n",
        "    plt.plot(range(1, len(losses) + 1), losses)\n",
        "    plt.ylabel(\"SSE\")\n",
        "    plt.xlabel(\"Epoch\")\n",
        "    plt.show()\n",
        "\n",
        "# This is a helper function, you may not need to call it.\n",
        "def reg_plot(x, y_gt, y_pred):\n",
        "    plt.scatter(x, y_gt, c=\"steelblue\", edgecolor=\"white\")\n",
        "    plt.plot(x, y_pred, c=\"black\")\n",
        "\n",
        "    plt.xlabel(\"x\")\n",
        "    plt.ylabel(\"y\")\n",
        "\n",
        "    plt.show()"
      ],
      "execution_count": null,
      "outputs": []
    },
    {
      "cell_type": "code",
      "metadata": {
        "id": "VKf3h1ioAjWC"
      },
      "source": [
        "test_size = 0.15\n",
        "random_state = 0\n",
        "\n",
        "epoches = 40\n",
        "learning_rate = 0.001"
      ],
      "execution_count": null,
      "outputs": []
    },
    {
      "cell_type": "code",
      "metadata": {
        "id": "AJpuOt9CAk37"
      },
      "source": [
        "from sklearn.model_selection import train_test_split\n",
        "\n",
        "x_data = df[[\"horsepower\"]].to_numpy()\n",
        "y_data = df[\"mpg\"].to_numpy()\n",
        "\n",
        "x_train, x_test, y_train, y_test = train_test_split(\n",
        "    x_data,\n",
        "    y_data,\n",
        "    test_size=test_size,\n",
        "    random_state=random_state,\n",
        ")\n",
        "\n",
        "x_train_std, x_test_std = apply_scaling(x_train, x_test)\n",
        "\n",
        "# PLEASE MODIFY CODE BELOW.\n",
        "\n",
        "horsepower_bias = 0.0\n",
        "\n",
        "print(\"Bias when input feature is horsepower = {}\".format(horsepower_bias))"
      ],
      "execution_count": null,
      "outputs": []
    },
    {
      "cell_type": "code",
      "metadata": {
        "id": "UjpVHW9tAmoe"
      },
      "source": [
        "from sklearn.metrics import mean_squared_error\n",
        "\n",
        "# PLEASE MODIFY CODE BELOW.\n",
        "\n",
        "smallest_mse_feature = \"\"\n",
        "\n",
        "print(\"The input feature that has smallest MSE is {}\".format(smallest_mse_feature))"
      ],
      "execution_count": null,
      "outputs": []
    },
    {
      "cell_type": "markdown",
      "metadata": {
        "id": "YUkQqVa6Lpzp"
      },
      "source": [
        "### 題組（六）答案上傳區"
      ]
    },
    {
      "cell_type": "code",
      "metadata": {
        "id": "WqegjfGgLd0F"
      },
      "source": [
        "submit_answers(sid, credential, 6, [\n",
        "    horsepower_bias,\n",
        "    smallest_mse_feature,\n",
        "])"
      ],
      "execution_count": null,
      "outputs": []
    }
  ]
}