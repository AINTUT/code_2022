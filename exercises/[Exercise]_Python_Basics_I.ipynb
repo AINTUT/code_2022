{
  "nbformat": 4,
  "nbformat_minor": 0,
  "metadata": {
    "colab": {
      "name": "[Exercise] Python Basics I.ipynb",
      "provenance": [],
      "collapsed_sections": []
    },
    "kernelspec": {
      "name": "python3",
      "display_name": "Python 3"
    }
  },
  "cells": [
    {
      "cell_type": "markdown",
      "metadata": {
        "id": "hI7hcU3_yQv2"
      },
      "source": [
        "This notebook is freely available for redistribution under the [GPL-3.0 license](https://choosealicense.com/licenses/gpl-3.0/).\n",
        "\n",
        "Author: 蘇嘉冠"
      ]
    },
    {
      "cell_type": "markdown",
      "metadata": {
        "id": "Na0_QjevL_F5"
      },
      "source": [
        "# [Exercise] Python 基礎練習（一）\n",
        "\n",
        "歡迎來到我們課堂的第一次練習！希望透過這幾次的練習，可以讓你快速的熟悉 Python，讓接下來學習機器學習與深度學習的路更加順利！\n",
        "\n",
        "關於 colab 的教學，可以先參考 [官方介紹文件](https://colab.research.google.com/notebooks/intro.ipynb)，裡頭有詳細說明各種 colab 的用法。"
      ]
    },
    {
      "cell_type": "markdown",
      "metadata": {
        "id": "xGEuxLe0YRAm"
      },
      "source": [
        "## 練習題的編寫規則\n",
        "\n",
        "基本上每個練習題，都會有題目的說明、程式碼區塊與預期的答案等。請注意的是程式碼區塊已經有先設定好的變數名稱、順序等，因此除了有出現類似 `# PLEASE MODIFY` 的區塊之外，**請盡量不要更動裡面的內容**，避免得到錯的結果。"
      ]
    },
    {
      "cell_type": "markdown",
      "source": [
        "## 練習題（一）：期中考分數大比較\n",
        "\n",
        "小明與小華是兩位都是班上的學霸，常常會互相比較考試分數。某次期中考的科目分別為國文、英文、數學，我們分別已知小明（`ming_chinese`、`ming_english`、`ming_math`）與小華（`hua_chinese`、`hua_english`、`hua_math`）的分數，想要從這些資訊中得到：\n",
        "\n",
        "- 小明三科的總分（`ming_total`）\n",
        "- 小華三科的總分（`hua_total`）\n",
        "- 小華的總分是否比小明高（`is_hua_better`）\n",
        "- 兩人數學的平均（`math_avg`）\n",
        "- 小明與小華國文分數差距的絕對值（`abs_chinese_diff`）\n",
        "\n",
        "[提示] 你可能需要了解以下功能的運作方式：\n",
        "- 基本的數值運算\n",
        "- 比較符號 *>* 的使用\n",
        "- 運用 *abs()* 函式，得到數字的絕對值"
      ],
      "metadata": {
        "id": "C-SBGnxXUPLM"
      }
    },
    {
      "cell_type": "code",
      "source": [
        "ming_chinese = 92\n",
        "ming_english = 89\n",
        "ming_math = 83\n",
        "\n",
        "hua_chinese = 87\n",
        "hua_english = 90\n",
        "hua_math = 95"
      ],
      "metadata": {
        "id": "smyFfIyzZT31"
      },
      "execution_count": 1,
      "outputs": []
    },
    {
      "cell_type": "code",
      "source": [
        "ming_total = ming_chinese + ming_english + ming_math\n",
        "print(\"Total score of Ming =\", ming_total) # Expected output: 264"
      ],
      "metadata": {
        "id": "URboB8oCZs3K"
      },
      "execution_count": null,
      "outputs": []
    },
    {
      "cell_type": "code",
      "source": [
        "hua_total = 0 # PLEASE MODIFY\n",
        "print(\"Total score of Hua =\", hua_total) # Expected output: 272"
      ],
      "metadata": {
        "id": "U6YQ1FR5Z-mY"
      },
      "execution_count": null,
      "outputs": []
    },
    {
      "cell_type": "code",
      "source": [
        "is_hua_better = False # PLEASE MODIFY\n",
        "print(\"Is Hua better than Ming?\", is_hua_better) # Expected output: True"
      ],
      "metadata": {
        "id": "fY-EAwkWaKgl"
      },
      "execution_count": null,
      "outputs": []
    },
    {
      "cell_type": "code",
      "source": [
        "math_avg = 0.0 # PLEASE MODIFY\n",
        "print(\"Average math score of Hua and Ming =\", math_avg) # Expected output: 89.0"
      ],
      "metadata": {
        "id": "xEeh9vS6aa1n"
      },
      "execution_count": null,
      "outputs": []
    },
    {
      "cell_type": "code",
      "source": [
        "abs_chinese_diff = 0 # PLEASE MODIFY\n",
        "print(\"Absolute chinese score difference of Hua and Ming =\", abs_chinese_diff) # Expected output: 5"
      ],
      "metadata": {
        "id": "mnrj2jp4a5gT"
      },
      "execution_count": null,
      "outputs": []
    },
    {
      "cell_type": "markdown",
      "metadata": {
        "id": "e75HmxuUENW8"
      },
      "source": [
        "## 練習題（二）：健康檢查\n",
        "\n",
        "我們有一筆關於 10 個人做健康檢查的結果，包含體重（`weights`，單位為公斤）以及身高（`heights`，單位為公分）。今天想要從這些資料中得到以下訊息：\n",
        "- 第一個人的體重（`first_weight`）\n",
        "- 第一個人的身高（`first_height`）\n",
        "- 最後一個人的體重（`last_weight`）\n",
        "- 最後一個人的身高（`last_height`）\n",
        "- 最後一個人的 BMI 值（`last_bmi_float`）\n",
        "    - BMI 計算方式：體重（公斤） / 身高（公尺）的平方\n",
        "- 最後一個人的 BMI 值，但是把小數位無條件捨去（`last_bmi_int`）\n",
        "- 第五個人是否比第二個人身高還高？（`fifth_higher_second`）\n",
        "\n",
        "[提示] 你可能需要了解以下功能的運作方式：\n",
        "- *list* 的 *index*\n",
        "- 基本的數值運算\n",
        "- 型別轉換，運用 *int()* 將 *floating point* 轉成 *int*\n",
        "- 比較符號 *>* 的使用"
      ]
    },
    {
      "cell_type": "code",
      "metadata": {
        "id": "JJA285HdE5sV"
      },
      "source": [
        "weights = [76, 51, 72, 67, 58, 51, 71, 54, 55, 53]\n",
        "heights = [154, 169, 151, 161, 154, 170, 172, 173, 178, 168]"
      ],
      "execution_count": 7,
      "outputs": []
    },
    {
      "cell_type": "code",
      "source": [
        "first_weight = weights[0]\n",
        "print(\"Weight of First Person =\", first_weight) # Expected output: 76"
      ],
      "metadata": {
        "id": "-_2sMhMiHx62"
      },
      "execution_count": null,
      "outputs": []
    },
    {
      "cell_type": "code",
      "source": [
        "first_height = heights[0]\n",
        "print(\"Height of First Person =\", first_height) # Expected output: 154"
      ],
      "metadata": {
        "id": "hK_WAfp0H7WJ"
      },
      "execution_count": null,
      "outputs": []
    },
    {
      "cell_type": "code",
      "source": [
        "last_weight = 0 # PLEASE MODIFY\n",
        "print(\"Weight of Last Person =\", last_weight) # Expected output: 53"
      ],
      "metadata": {
        "id": "y_tnNUfPH-sQ"
      },
      "execution_count": null,
      "outputs": []
    },
    {
      "cell_type": "code",
      "source": [
        "last_height = 0 # PLEASE MODIFY\n",
        "print(\"Height of Last Person =\", last_height) # Expected output: 168"
      ],
      "metadata": {
        "id": "wRfuLq1KIIpM"
      },
      "execution_count": null,
      "outputs": []
    },
    {
      "cell_type": "code",
      "source": [
        "last_bmi_float = 0.0 # PLEASE MODIFY\n",
        "print(\"BMI of Last Person (Floating Point) =\", last_bmi_float) # Expected output: 18.778344671201815"
      ],
      "metadata": {
        "id": "vCylhau4IPt3"
      },
      "execution_count": null,
      "outputs": []
    },
    {
      "cell_type": "code",
      "source": [
        "last_bmi_int = 0 # PLEASE MODIFY\n",
        "print(\"BMI of Last Person (Integer) =\", last_bmi_int) # Expected output: 18"
      ],
      "metadata": {
        "id": "UMd4cpzXIX4O"
      },
      "execution_count": null,
      "outputs": []
    },
    {
      "cell_type": "code",
      "metadata": {
        "id": "MgBdbc2mHpDt"
      },
      "source": [
        "fifth_higher_second = True # PLEASE MODIFY\n",
        "print(\"Is Fifth person higher than second person?\", fifth_higher_second) # Expected output: False"
      ],
      "execution_count": null,
      "outputs": []
    },
    {
      "cell_type": "markdown",
      "metadata": {
        "id": "f2xYHcJvPCZn"
      },
      "source": [
        "## 練習題（三）：溫度資訊統計\n",
        "\n",
        "我們有一組某個地方的溫度觀測資料：`temperatures`，為 1948 年至 2016 年每月的最高溫度。請試著從這些資料中得到一些基本資訊，包含：\n",
        "- 最高溫（`temperature_highest`）\n",
        "- 最低溫（`temperature_lowest`）\n",
        "- 平均溫度（`temperature_mean`）\n",
        "- 前十筆資料的平均溫度（`temperature_10_mean`）\n",
        "- 第三高的溫度（`temperature_third`）\n",
        "- 有多少個不重複的溫度值（`num_uniques`）\n",
        "\n",
        "[提示] 你可能會需要用到以下跟 *list* 的 *slicing*、*set* 以及 *list* 相關的 function：\n",
        "- *max()*\n",
        "- *min()*\n",
        "- *sum()*\n",
        "- *len()*\n",
        "- *sort()*"
      ]
    },
    {
      "cell_type": "code",
      "metadata": {
        "id": "K9aVON94LnKO"
      },
      "source": [
        "temperatures = [8.9, 7.9, 14.2, 15.4, 18.1, 19.1, 21.7, 20.8, 19.6, 14.9, 10.8, 8.8, 8.5, 10.4, 9.3, 16.2, 17.1, 22.0, 25.1, 23.9, 22.8, 17.0, 10.2, 9.2, 7.1, 9.9, 12.3, 12.9, 17.2, 23.6, 21.6, 21.9, 17.6, 14.0, 9.3, 3.8, 7.3, 7.0, 8.4, 12.3, 15.0, 20.5, 23.0, 20.2, 19.2, 14.6, 11.8, 8.9, 6.2, 6.7, 10.6, 15.6, 19.6, 20.9, 23.3, 21.6, 16.4, 13.2, 7.5, 5.8, 5.6, 7.5, 11.1, 13.1, 18.7, 19.8, 21.0, 22.6, 19.5, 14.7, 11.3, 10.0, 5.9, 6.1, 10.4, 13.2, 16.8, 18.6, 19.2, 19.8, 18.0, 16.2, 11.2, 9.7, 5.6, 5.0, 7.9, 15.2, 15.5, 20.0, 24.4, 24.3, 19.9, 13.5, 10.7, 9.5, 7.0, 2.9, 11.0, 12.1, 19.1, 18.5, 20.9, 18.8, 19.2, 13.8, 9.3, 8.2, 8.7, 9.0, 13.9, 14.2, 16.2, 23.6, 22.5, 21.1, 17.6, 15.5, 9.4, 7.6, 6.8, 8.9, 8.1, 12.3, 17.3, 19.4, 21.7, 20.8, 20.0, 14.9, 9.7, 8.0, 5.7, 7.4, 11.9, 14.2, 18.7, 22.1, 24.7, 24.2, 22.7, 17.8, 10.8, 9.3, 6.9, 7.9, 10.2, 14.3, 18.4, 22.1, 20.1, 20.3, 18.5, 14.2, 11.2, 6.9, 6.9, 10.3, 13.9, 15.0, 16.8, 21.7, 22.1, 21.7, 20.9, 15.6, 9.9, 6.8, 7.9, 7.6, 7.4, 12.7, 15.0, 20.4, 20.6, 20.0, 17.8, 15.7, 9.1, 5.0, 0.8, 2.8, 10.7, 13.6, 16.0, 20.8, 21.1, 19.8, 18.0, 14.8, 11.8, 5.4, 5.8, 7.6, 7.6, 12.8, 19.6, 19.3, 22.8, 22.3, 21.1, 13.7, 11.2, 7.1, 6.6, 5.9, 10.5, 13.4, 16.8, 19.7, 19.3, 20.8, 17.4, 16.2, 8.4, 8.4, 5.3, 9.3, 10.9, 12.2, 17.0, 21.8, 20.1, 20.6, 19.6, 14.7, 8.8, 9.3, 7.3, 9.3, 11.6, 12.5, 15.6, 20.1, 23.5, 21.5, 18.5, 15.0, 9.7, 7.2, 7.2, 5.7, 11.1, 13.7, 15.4, 20.6, 20.7, 20.2, 18.8, 16.5, 9.5, 5.4, 8.9, 4.9, 8.0, 13.6, 17.1, 20.6, 23.9, 21.8, 19.6, 18.2, 9.6, 6.1, 7.1, 7.2, 8.1, 11.4, 19.2, 23.6, 21.3, 22.3, 20.3, 15.7, 11.9, 7.0, 7.8, 8.6, 9.1, 12.2, 18.1, 17.8, 24.1, 21.3, 20.7, 17.2, 10.4, 9.3, 6.9, 7.9, 12.4, 12.9, 16.0, 17.5, 22.3, 21.8, 17.3, 15.6, 9.9, 9.4, 7.3, 8.1, 11.5, 12.5, 16.9, 21.9, 21.4, 23.7, 20.7, 13.9, 10.3, 8.6, 9.6, 9.2, 10.3, 14.0, 17.0, 20.1, 20.9, 21.5, 17.5, 11.0, 10.6, 11.0, 10.3, 9.3, 8.4, 13.3, 15.1, 21.8, 24.1, 25.9, 19.5, 14.4, 10.1, 7.6, 8.8, 7.8, 9.5, 13.7, 19.3, 25.5, 26.6, 25.1, 19.0, 14.9, 9.9, 5.6, 6.1, 9.6, 11.2, 12.2, 16.4, 17.4, 22.4, 20.3, 18.0, 16.3, 10.4, 9.2, 6.7, 6.2, 11.3, 10.7, 17.2, 19.7, 20.5, 20.7, 20.1, 17.1, 12.6, 7.8, 3.8, 4.5, 9.2, 12.7, 15.9, 19.0, 22.5, 21.0, 19.6, 16.4, 10.8, 9.2, 6.0, 9.9, 9.0, 14.0, 17.3, 19.8, 19.7, 21.9, 20.1, 14.0, 9.3, 8.9, 8.1, 7.1, 11.8, 12.9, 16.1, 18.5, 22.0, 22.8, 20.3, 12.9, 11.5, 4.4, 6.9, 8.4, 11.1, 14.3, 18.0, 21.5, 22.7, 22.2, 20.8, 14.1, 11.4, 8.2, 10.0, 5.5, 10.8, 12.4, 15.6, 20.8, 27.6, 24.5, 19.3, 15.1, 11.3, 9.2, 8.0, 7.4, 8.9, 14.6, 14.9, 21.3, 24.2, 24.4, 18.6, 15.8, 12.2, 8.7, 4.1, 6.3, 9.4, 14.0, 16.4, 18.5, 22.9, 20.3, 20.6, 16.1, 8.1, 10.0, 7.2, 1.7, 10.1, 10.9, 16.3, 21.8, 22.6, 20.0, 17.4, 16.4, 12.1, 9.7, 3.6, 7.7, 8.5, 15.8, 16.3, 18.6, 21.8, 21.8, 19.3, 15.0, 9.8, 8.9, 8.8, 8.7, 10.7, 13.5, 18.0, 19.7, 20.0, 21.8, 18.8, 15.5, 9.9, 10.4, 9.5, 10.2, 12.9, 11.5, 21.0, 22.1, 25.8, 24.2, 20.7, 17.1, 10.9, 9.4, 10.2, 11.7, 13.6, 14.6, 20.5, 19.5, 24.7, 26.0, 19.7, 16.9, 10.7, 7.6, 7.3, 5.4, 12.5, 13.1, 15.7, 17.8, 23.2, 24.1, 21.4, 14.6, 10.6, 8.3, 7.5, 9.5, 11.8, 14.0, 21.0, 22.5, 22.5, 21.7, 18.9, 12.5, 12.0, 7.8, 10.3, 7.2, 11.8, 14.6, 18.0, 21.8, 21.6, 21.6, 17.5, 13.0, 8.8, 9.2, 9.3, 7.7, 12.3, 13.3, 16.0, 21.5, 26.2, 23.0, 17.8, 15.4, 13.6, 10.7, 8.9, 10.7, 11.2, 15.0, 19.0, 20.7, 26.3, 27.0, 19.2, 18.3, 12.0, 5.8, 7.2, 6.8, 8.6, 14.3, 15.1, 22.8, 24.2, 23.1, 19.2, 16.6, 10.5, 6.2, 5.5, 10.8, 13.8, 15.6, 18.7, 20.2, 23.5, 25.8, 20.9, 15.9, 12.5, 9.5, 9.2, 11.6, 12.1, 12.7, 19.6, 19.9, 21.4, 23.5, 20.4, 14.7, 9.6, 9.7, 9.4, 8.8, 12.2, 14.9, 19.1, 20.3, 24.9, 22.8, 21.3, 15.6, 11.3, 8.7, 8.6, 10.4, 12.1, 12.9, 18.0, 21.0, 21.0, 23.2, 20.1, 14.7, 11.0, 9.0, 7.1, 9.2, 9.5, 12.8, 18.8, 20.8, 24.3, 23.5, 18.1, 17.6, 11.3, 7.3, 9.5, 11.3, 12.4, 15.7, 17.3, 20.1, 22.3, 23.3, 20.3, 15.3, 12.4, 9.0, 8.0, 8.4, 13.6, 15.7, 18.2, 23.3, 24.2, 26.4, 21.9, 14.5, 12.6, 8.8, 8.8, 8.7, 10.8, 14.9, 18.2, 22.1, 22.7, 23.8, 20.8, 15.3, 11.2, 8.8, 9.5, 7.3, 11.5, 14.6, 17.7, 22.8, 23.3, 23.2, 21.4, 17.8, 10.7, 8.2, 7.6, 7.2, 9.4, 14.1, 18.0, 23.7, 28.2, 22.2, 22.7, 17.8, 12.7, 9.7, 10.5, 9.9, 12.5, 18.9, 17.9, 21.2, 21.4, 21.5, 19.9, 15.4, 11.4, 8.9, 10.4, 11.0, 10.6, 13.7, 19.8, 20.8, 22.8, 21.5, 18.5, 15.0, 10.7, 7.3, 6.8, 7.8, 12.9, 16.1, 19.1, 22.4, 23.0, 23.9, 20.5, 16.3, 12.6, 7.0, 4.5, 6.9, 11.1, 15.8, 17.3, 23.5, 25.0, 21.6, 19.4, 15.2, 9.1, 3.9, 7.4, 10.2, 12.3, 19.7, 19.4, 20.7, 21.7, 21.8, 21.3, 18.1, 13.6, 9.9, 9.8, 8.0, 14.7, 13.3, 18.2, 19.4, 21.3, 23.5, 20.0, 14.2, 11.0, 9.0, 6.5, 6.7, 6.9, 13.5, 16.4, 20.3, 27.0, 24.3, 19.7, 17.0, 10.4, 10.2, 10.0, 10.6, 14.1, 16.1, 18.0, 22.1, 25.8, 21.7, 21.5, 17.6, 12.5, 9.2, 8.8, 8.0, 11.6, 16.3, 17.6, 22.2, 23.7, 22.2, 18.6, 15.8, 13.4, 13.7, 9.5, 9.4, 10.7, 13.5, 19.0, 20.7, 24.0, 24.7, 22.4, 15.9, 10.5]"
      ],
      "execution_count": 15,
      "outputs": []
    },
    {
      "cell_type": "code",
      "source": [
        "temperature_highest = max(temperatures)\n",
        "print(\"Highest Temperature =\", temperature_highest) # Expected output: 28.2"
      ],
      "metadata": {
        "id": "M9DZ2Px6JbDM"
      },
      "execution_count": null,
      "outputs": []
    },
    {
      "cell_type": "code",
      "source": [
        "temperature_lowest = min(temperatures) # PLEASE MODIFY\n",
        "print(\"Lowest Temperature =\", temperature_lowest) # Expected output: 0.8"
      ],
      "metadata": {
        "id": "bi8yo_RwJhrX"
      },
      "execution_count": null,
      "outputs": []
    },
    {
      "cell_type": "code",
      "source": [
        "temperature_mean = 0.0 # PLEASE MODIFY\n",
        "print(\"Mean of Temperatures =\", temperature_mean) # Expected output: 14.85392986698912"
      ],
      "metadata": {
        "id": "8ZehO1ubJj8A"
      },
      "execution_count": null,
      "outputs": []
    },
    {
      "cell_type": "code",
      "source": [
        "temperature_10_mean = 0.0 # PLEASE MODIFY\n",
        "print(\"Mean of 10 Temperatures =\", temperature_10_mean) # Expected output: 16.06"
      ],
      "metadata": {
        "id": "frglnFeQwF2J"
      },
      "execution_count": null,
      "outputs": []
    },
    {
      "cell_type": "code",
      "source": [
        "temperature_median = 0.0 # PLEASE MODIFY\n",
        "print(\"Third-highest Temperature =\", temperature_median) # Expected output: 27.0"
      ],
      "metadata": {
        "id": "Jo-OlhMGJpzf"
      },
      "execution_count": null,
      "outputs": []
    },
    {
      "cell_type": "code",
      "metadata": {
        "id": "l5Cbq5VFTbnK"
      },
      "source": [
        "num_uniques = 0 # PLEASE MODIFY\n",
        "print(\"Number of Unique Temperatures =\", num_uniques) # Expected output: 217"
      ],
      "execution_count": null,
      "outputs": []
    },
    {
      "cell_type": "markdown",
      "source": [
        "## 練習題（四）：愛的情書\n",
        "\n",
        "我們今天有一封情書的內容（`letter`），想要嘗試做以下分析與修改：\n",
        "- 這封信的第 87 個字元為何（`eighty_seventh_ch`）？\n",
        "- 這封信的第 3 到第 7 個字元形成的字串為何（`third_seventh_str`）？\n",
        "- 這封信總共有幾個字元（`letter_len`）？\n",
        "- 如果將這封信都改成大寫，內容會變成何種樣子（`letter_upper`）？\n",
        "- 如果將我（`\"I\"`）替換成古英文的書寫方式（`\"ic\"`），信的內容會變成何種樣子（`letter_old`）？\n",
        "- 如果將不考慮空白（`\" \"`）及標點符號（`\",\"`, `\".\"`），則這封信總共有幾個字元（`letter_len_pure`）？\n",
        "    - 計算方式：將信件的空白及標點符號都去掉後，再算字元的數量\n",
        "- 這封信總共用了幾*種*單字（`num_unique_words`）？\n",
        "    - 計算方式：將信件的標點符號都去掉後，用空白來區隔以得到所用到的單字，再算總共有幾種單字\n",
        "\n",
        "[提示] 你可能需要了解以下功能的運作方式：\n",
        "- *string* 的 index 與 slicing\n",
        "- *len()*\n",
        "- *string* 的 *upper()*\n",
        "- *string* 的 *replace()*\n",
        "- *string* 的 *split()*\n",
        "- 將 *list* 轉成 *set*\n",
        "\n",
        "附註：這封信參考自[這裡](https://dating.lovetoknow.com/Passionate_Love_Letters)"
      ],
      "metadata": {
        "id": "ilf9JI0ShbKp"
      }
    },
    {
      "cell_type": "code",
      "source": [
        "letter = \"I never knew how joyous life could be until I saw your face. My heart leaps like a hummingbird in flight every time I see you. This is something I have never felt before, and it is you that inspires it.\""
      ],
      "metadata": {
        "id": "Cq2DMzFEjZCv"
      },
      "execution_count": 22,
      "outputs": []
    },
    {
      "cell_type": "code",
      "source": [
        "eighty_seventh_ch = letter[86]\n",
        "print(\"The 87-th character is\", eighty_seventh_ch) # Expected output: \"m\""
      ],
      "metadata": {
        "id": "3Abuor6BnNc1"
      },
      "execution_count": null,
      "outputs": []
    },
    {
      "cell_type": "code",
      "source": [
        "third_seventh_str = \"\" # PLEASE MODIFY\n",
        "print(\"The sub-string from 3rd to 7th elements =\", third_seventh_str) # Expected output: \"never\""
      ],
      "metadata": {
        "id": "pJrkgRAJmqnn"
      },
      "execution_count": null,
      "outputs": []
    },
    {
      "cell_type": "code",
      "source": [
        "letter_len = 0 # PLEASE MODIFY\n",
        "print(\"Length of the letter =\", letter_len) # Expected output: 202"
      ],
      "metadata": {
        "id": "zh412luLldg3"
      },
      "execution_count": null,
      "outputs": []
    },
    {
      "cell_type": "code",
      "source": [
        "letter_upper = \"\" # PLEASE MODIFY\n",
        "print(\"Uppercase version of the letter =\", letter_upper) # Expected output: \"I NEVER KNEW HOW JOYOUS LIFE COULD BE UNTIL I SAW YOUR FACE. MY HEART LEAPS LIKE A HUMMINGBIRD IN FLIGHT EVERY TIME I SEE YOU. THIS IS SOMETHING I HAVE NEVER FELT BEFORE, AND IT IS YOU THAT INSPIRES IT.\""
      ],
      "metadata": {
        "id": "plnYSQwYp4pq"
      },
      "execution_count": null,
      "outputs": []
    },
    {
      "cell_type": "code",
      "source": [
        "letter_old = \"\" # PLEASE MODIFY\n",
        "print(\"Old english style =\", letter_old) # Expected output: \"ic never knew how joyous life could be until ic saw your face. My heart leaps like a hummingbird in flight every time ic see you. This is something ic have never felt before, and it is you that inspires it.\""
      ],
      "metadata": {
        "id": "PlUuSFn9kRJM"
      },
      "execution_count": null,
      "outputs": []
    },
    {
      "cell_type": "code",
      "source": [
        "letter_len_pure = 0 # PLEASE MODIFY\n",
        "print(\"Pure length of the letter =\", letter_len_pure) # Expected output: 158"
      ],
      "metadata": {
        "id": "wRyA7XDXo883"
      },
      "execution_count": null,
      "outputs": []
    },
    {
      "cell_type": "code",
      "source": [
        "num_unique_words = 0 # PLEASE MODIFY\n",
        "print(\"Number of unique words =\", num_unique_words) # Expected output: 34"
      ],
      "metadata": {
        "id": "MIZiGQlYu5Pm"
      },
      "execution_count": null,
      "outputs": []
    }
  ]
}