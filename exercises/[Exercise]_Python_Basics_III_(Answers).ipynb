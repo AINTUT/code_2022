{
  "nbformat": 4,
  "nbformat_minor": 0,
  "metadata": {
    "colab": {
      "name": "[Exercise] Python Basics III (Answers).ipynb",
      "provenance": [],
      "collapsed_sections": []
    },
    "kernelspec": {
      "name": "python3",
      "display_name": "Python 3"
    }
  },
  "cells": [
    {
      "cell_type": "markdown",
      "metadata": {
        "id": "vv49axWeylsB"
      },
      "source": [
        "This notebook is freely available for redistribution under the [GPL-3.0 license](https://choosealicense.com/licenses/gpl-3.0/).\n",
        "\n",
        "Author: 蘇嘉冠"
      ]
    },
    {
      "cell_type": "markdown",
      "metadata": {
        "id": "Na0_QjevL_F5"
      },
      "source": [
        "# [Exercise] Python 基礎練習 III"
      ]
    },
    {
      "cell_type": "markdown",
      "metadata": {
        "id": "F2R1s0zi2kQS"
      },
      "source": [
        "## 練習題的編寫規則\n",
        "\n",
        "基本上每個練習題，都會有題目的說明、程式碼區塊與預期的答案等。請注意的是程式碼區塊已經有先設定好的變數名稱、順序等，因此除了有出現類似 `# PLEASE MODIFY` 的區塊之外，**請盡量不要更動裡面的內容**，避免得到錯的結果。"
      ]
    },
    {
      "cell_type": "markdown",
      "source": [
        "## 練習題（一）：句子計數器\n",
        "\n",
        "我們想要幫一個句子計算長度。請分完成以下兩個 *function*：\n",
        "- *count_alphabet()*：計算某個句子總共有幾個英文字母\n",
        "- *count_sentence()*：除了計算有幾個英文字母之外，也可能根據需求再加上有幾個數字\n",
        "\n",
        "[提示 1] 目前兩個 *function* 都實做到一半，執行會出錯，請試著修改至不會出錯，並且能讓結果是對的\n",
        "\n",
        "[提示 2] 你可能需要了解以下 *function* 的基本概念：\n",
        "- *return*\n",
        "- *postional parameter*\n",
        "- *keyword parameter*\n"
      ],
      "metadata": {
        "id": "di2LtqiYaD3L"
      }
    },
    {
      "cell_type": "code",
      "source": [
        "def count_alphabet(): # PLEASE MODIFY\n",
        "    num_alphabet = len([ch for ch in sentence if ch.isalpha()])\n",
        "\n",
        "    return # PLEASE MODIFY\n",
        "\n",
        "num_alphabet = count_alphabet(\"Sometimes there (are) 30 minutes of silence, but then the city is again under attack (from) tanks.\")\n",
        "\n",
        "print(\"Number of alphabet =\", num_alphabet) # Expected output: 74"
      ],
      "metadata": {
        "id": "cDlYEejOcQQN"
      },
      "execution_count": null,
      "outputs": []
    },
    {
      "cell_type": "code",
      "source": [
        "def count_sentence(): # PLEASE MODIFY\n",
        "    num_alphabet = count_alphabet(sentence)\n",
        "\n",
        "    if include_digit:\n",
        "        num_digit = len([ch for ch in sentence if ch.isdigit()])\n",
        "        num_sentence = num_alphabet + num_digit\n",
        "    else:\n",
        "        num_sentence = num_alphabet\n",
        "\n",
        "    return # PLEASE MODIFY\n",
        "\n",
        "num_alphabet = count_sentence(\"Sometimes there (are) 30 minutes of silence, but then the city is again under attack (from) tanks.\")\n",
        "num_alphabet_digit = count_sentence(\"Sometimes there (are) 30 minutes of silence, but then the city is again under attack (from) tanks.\", include_digit=True)\n",
        "\n",
        "print(\"Number of alphabet =\", num_alphabet) # Expected output: 74\n",
        "print(\"Number of alphabet and digit =\", num_alphabet_digit) # Expected output: 76"
      ],
      "metadata": {
        "id": "BYcL6xMJezgx"
      },
      "execution_count": null,
      "outputs": []
    },
    {
      "cell_type": "markdown",
      "metadata": {
        "id": "e75HmxuUENW8"
      },
      "source": [
        "## 練習題（二）：一元二次方程式求解\n",
        "\n",
        "某個聰明的國中生在學會一元二次方程式的公式解後，便試著自己帶入各種的數字來手動計算。然後在確認答案時，發現需要按計算機，實在太慢了。因此希望能請你幫忙用 Python 寫一個名為 `get_answer()` 的 function，並且得到以下的答案：\n",
        "- $a = 1, b = 4, c = 0$ 的答案（`answer_140`）\n",
        "- $a = 2, b = 3, c = -9$ 的答案（`answer_23m9`）\n",
        "- $a = 3, b = -4, c = -7$ 的答案（`answer_3m4m7`）\n",
        "- $a = 3, b = -4, c = -7$ 的答案，並且將答案的小數點捨棄（`answer_3m4m7_int`）\n",
        "\n",
        "一元二次方程式的公式解如下：\n",
        "\n",
        "已知 $ax^2 + bx + c = 0 (a ≠ 0)$，則 $ x = (\\frac{-b + \\sqrt{b^2 - 4ac}}{2a}, \\frac{-b - \\sqrt{b^2 - 4ac}}{2a})$\n",
        "\n",
        "[提示] 你可能需要了解以下知識：\n",
        "- 基本的數值運算\n",
        "- 型別轉換，運用 *int()* 將 *floating point* 轉成 *int*\n",
        "- 用 ** 符號做次方的運算（例如：`3 ** 2` 代表 3 的平方，`3 ** 0.5` 代表 3 的開根號）\n",
        "- function 的基本概念，包含 parameter, argument 與 return 等\n",
        "- 了解 function 的 positional parameter 跟 keyword parameter 的差別"
      ]
    },
    {
      "cell_type": "code",
      "metadata": {
        "id": "JJA285HdE5sV"
      },
      "source": [
        "# Define a function to calculate the answer for ax^2 + bx + c = 0.\n",
        "def get_answer(coeff_a, coeff_b, coeff_c, to_int=False):\n",
        "    if coeff_a == 0:\n",
        "        raise ValueError(\"Coefficient `a` must not be zero!\") \n",
        "\n",
        "    # PLEASE MODIFY CODE BELOW.\n",
        "    answer = (0.0, 0.0)\n",
        "\n",
        "    return answer"
      ],
      "execution_count": 5,
      "outputs": []
    },
    {
      "cell_type": "code",
      "metadata": {
        "id": "LnvBE--eGT4R"
      },
      "source": [
        "answer_140 = get_answer(1, 4, 0)\n",
        "print(\"When a = 1, b = 4, c = -0, Answer =\", answer_140) # Expected output: (0.0, -4.0)"
      ],
      "execution_count": null,
      "outputs": []
    },
    {
      "cell_type": "code",
      "metadata": {
        "id": "MgBdbc2mHpDt"
      },
      "source": [
        "answer_23m9 = get_answer(2, 3, -9)\n",
        "print(\"When a = 2, b = 3, c = -9, Answer =\", answer_23m9) # Expected output: (1.5, -3.0)"
      ],
      "execution_count": null,
      "outputs": []
    },
    {
      "cell_type": "code",
      "source": [
        "answer_3m4m7 = get_answer(3, -4, -7)\n",
        "print(\"When a = 3, b = -4, c = -7, Answer =\", answer_3m4m7) # Expected output: (2.3333333333333335, -1.0)"
      ],
      "metadata": {
        "id": "WC-bkGjnY2mZ"
      },
      "execution_count": null,
      "outputs": []
    },
    {
      "cell_type": "code",
      "source": [
        "answer_3m4m7_int = get_answer(3, -4, -7, to_int=True)\n",
        "print(\"When a = 3, b = -4, c = -7, Answer (Approximate Version) =\", answer_3m4m7_int) # Expected output: (2, -1)"
      ],
      "metadata": {
        "id": "QcdfJmAFZHl9"
      },
      "execution_count": null,
      "outputs": []
    },
    {
      "cell_type": "markdown",
      "metadata": {
        "id": "f2xYHcJvPCZn"
      },
      "source": [
        "## 練習題（三）：時間管理大師\n",
        "\n",
        "做事很有原則的小株，從小目標成為時間管理大師。她每次做事情時，都會紀錄事情開始與完成的時間，並且要求自己每件事情都能在 9487 秒（含）內完成。這是她今天（2023 年 3 月 8 日）所完成的事情以及時間：\n",
        "- 幫媽媽跑腿買醬油：早上 10 點 32 分 56 秒 到 下午 1 點 8 分 23 秒\n",
        "- 出門健身：下午 2 點 37 分 44 秒 到 下午 5 點 50 分 50 秒\n",
        "\n",
        "請你幫忙實做兩個 function：`get_elapsed()` 與 `is_safe()`，並且求出以下答案：\n",
        "- 幫媽媽跑腿買醬油總共花了多少秒？（`shopping_elapsed`）\n",
        "- 幫媽媽跑腿買醬油是否有符合小於等於 9487 秒的要求？（`shopping_safe`）\n",
        "- 出門健身共花了多少秒？（`workout_elapsed`）\n",
        "- 出門健身是否有符合小於等於 9487 秒的要求？（`workout_safe`）\n",
        "\n",
        "[提示] 你可能需要了解以下知識：\n",
        "- *import* 的基本觀念\n",
        "- 學會看 Python Standard Library 的文件\n",
        "- 兩個 [datetime.datetime](https://docs.python.org/3/library/datetime.html#datetime.datetime) 可以做運算，如果兩個 `datetime.datetime` 物件相減，會產生 [datetime.timedelta](https://docs.python.org/3/library/datetime.html#datetime.timedelta) 物件 \n",
        "- [datetime.timedelta](https://docs.python.org/3/library/datetime.html#datetime.timedelta) 物件可以藉由 [total_seconds()](https://docs.python.org/3/library/datetime.html#datetime.timedelta.total_seconds) 這個 method 來計算總共過了幾秒（但請注意我們要的是整數，不需要小數位喔！）"
      ]
    },
    {
      "cell_type": "code",
      "metadata": {
        "id": "uvZQG-pxTNnm"
      },
      "source": [
        "from datetime import datetime"
      ],
      "execution_count": 10,
      "outputs": []
    },
    {
      "cell_type": "code",
      "metadata": {
        "id": "iSXk1efSUKUo"
      },
      "source": [
        "# Calculate the elapsed time from a date to another date.\n",
        "def get_elapsed(date_from, date_to):\n",
        "    if date_from > date_to:\n",
        "        raise ValueError(\"Date from must be <= date to!\")\n",
        "\n",
        "    # PLEASE MODIFY CODE BELOW.\n",
        "    elapsed = 0\n",
        "\n",
        "    return elapsed"
      ],
      "execution_count": 11,
      "outputs": []
    },
    {
      "cell_type": "code",
      "metadata": {
        "id": "sb2j4g0GbIIT"
      },
      "source": [
        "def is_safe(elapsed, limit=9487):\n",
        "    return False # PLEASE MODIFY."
      ],
      "execution_count": 12,
      "outputs": []
    },
    {
      "cell_type": "code",
      "source": [
        "shopping_start = datetime(2023, 3, 8, hour=10, minute=32, second=56)\n",
        "shopping_end = datetime(2023, 3, 8, hour=13, minute=8, second=23)"
      ],
      "metadata": {
        "id": "Qc14UCGEa7FV"
      },
      "execution_count": 13,
      "outputs": []
    },
    {
      "cell_type": "code",
      "source": [
        "shopping_elapsed = get_elapsed(shopping_start, shopping_end)\n",
        "print(\"Shopping Time =\", shopping_elapsed) # Expected output: 9327"
      ],
      "metadata": {
        "id": "OVhZUPe9a9Ob"
      },
      "execution_count": null,
      "outputs": []
    },
    {
      "cell_type": "code",
      "source": [
        "shopping_safe = is_safe(shopping_elapsed)\n",
        "print(\"Is Shopping Safe ?\", shopping_safe) # Expected output: True"
      ],
      "metadata": {
        "id": "52wr4cyRbZu0"
      },
      "execution_count": null,
      "outputs": []
    },
    {
      "cell_type": "code",
      "metadata": {
        "id": "Yzd1CYxvblwV"
      },
      "source": [
        "workout_start = datetime(2023, 3, 8, hour=14, minute=37, second=44)\n",
        "workout_end = datetime(2023, 3, 8, hour=17, minute=50, second=50)"
      ],
      "execution_count": 16,
      "outputs": []
    },
    {
      "cell_type": "code",
      "metadata": {
        "id": "l5Cbq5VFTbnK"
      },
      "source": [
        "workout_elapsed = get_elapsed(workout_start, workout_end)\n",
        "print(\"Workout Time =\", workout_elapsed) # Expected output: 11586"
      ],
      "execution_count": null,
      "outputs": []
    },
    {
      "cell_type": "code",
      "source": [
        "workout_safe = is_safe(workout_elapsed)\n",
        "print(\"Is Workout Safe ?\", workout_safe) # Expected output: False"
      ],
      "metadata": {
        "id": "165k5pcGbkM4"
      },
      "execution_count": null,
      "outputs": []
    },
    {
      "cell_type": "markdown",
      "metadata": {
        "id": "5hNK0uCKbc8c"
      },
      "source": [
        "## 練習題（四）：銷售管理系統\n",
        "\n",
        "我們得到了某家店某個月所有商品的銷售資料，包含各個商品的單價（`unit_prices`）以及各個商品每天的銷售量（`num_sales`）。我們想要從中得知：\n",
        "- 這家店總共有幾種商品？（`num_products`）\n",
        "- 該月總共有幾天？（`num_days`）\n",
        "- 第三個商品的單價為多少？（`third_product_price`）\n",
        "- 如果所有商品各買一個，總共會花多少錢？（`price_total`）\n",
        "- 該月第三天總共銷售了幾個商品？（`third_day_num_sales`）\n",
        "- 該月第三天的銷售金額為多少？（`third_day_total`）\n",
        "    - 可以參考講義：兩個 *vector* 的 *dot product*，以及下圖二，幫助你思考\n",
        "- 該月的總銷售金額為多少？（`month_total`）\n",
        "    - 可以參考講義：*matrix* 跟 *vector* 的 *dot product*，以及下圖二，幫助你思考\n",
        "- 畫一張圖表，x 軸為該月的第幾天，y 軸為每天的銷售金額，結果類似圖一\n",
        "\n",
        "資料說明：\n",
        "- `unit_prices` 是一維的 `numpy.ndarray` 物件，`unit_prices[0]` 代表第一個商品的單價，`unit_prices[1]` 則代表第二個，以此類推。\n",
        "- `num_sales` 是二維的 `numpy.ndarray` 物件，`num_sales[0][0]` 代表第一天的第一個商品的銷售量，`num_sales[0][1]` 則代表第一天的第二個商品的銷售量，以此類推。\n",
        "\n",
        "[提示] 你可能需要了解以下知識：\n",
        "- 使用 *pip* 工具來安裝 third-party package\n",
        "- *numpy* 的常用功能，例如 *物件.shape*, *index*, [numpy.dot()](https://numpy.org/doc/stable/reference/generated/numpy.dot.html)\n",
        "- *matplotlib* 的常用功能，例如 [matplotlib.pyplot](https://matplotlib.org/stable/api/_as_gen/matplotlib.pyplot.html)\n",
        "\n",
        "圖一：\n",
        "\n",
        "![](https://i.imgur.com/TmH5471.png)\n",
        "\n",
        "圖二：\n",
        "![](https://i.imgur.com/PrqCcHE.png)"
      ]
    },
    {
      "cell_type": "code",
      "metadata": {
        "id": "8fpAyWrQuBap"
      },
      "source": [
        "!pip install numpy matplotlib"
      ],
      "execution_count": null,
      "outputs": []
    },
    {
      "cell_type": "code",
      "metadata": {
        "id": "aXjbYNeBo78P"
      },
      "source": [
        "import numpy as np\n",
        "from matplotlib import pyplot as plt"
      ],
      "execution_count": 20,
      "outputs": []
    },
    {
      "cell_type": "code",
      "metadata": {
        "id": "yyD4IOjvrck9"
      },
      "source": [
        "unit_prices = np.array([35, 47, 35, 45, 48, 72, 90, 40, 77, 100, 39, 40, 85, 93, 96, 82, 97, 99, 55, 75, 78, 36, 69, 49, 48, 53, 36, 95, 30, 75, 55, 66], dtype=np.int32)\n",
        "num_sales = np.array([[51, 45, 79, 32, 66, 65, 12, 74, 16, 32, 11, 84, 73, 26, 52, 32, 24, 28, 57, 20, 38, 18, 17, 53, 43, 87, 37, 18, 41, 19, 71, 85], [59, 31, 23, 61, 51, 47, 71, 38, 84, 81, 14, 85, 67, 79, 29, 54, 48, 25, 71, 45, 77, 71, 64, 82, 46, 78, 55, 79, 38, 28, 83, 60], [34, 38, 85, 25, 64, 24, 45, 73, 70, 66, 79, 25, 51, 87, 48, 74, 87, 32, 85, 38, 27, 59, 75, 86, 25, 69, 34, 77, 59, 12, 86, 25], [11, 37, 81, 12, 43, 84, 30, 77, 84, 13, 84, 26, 41, 15, 60, 61, 32, 48, 26, 21, 81, 31, 22, 14, 62, 66, 11, 68, 61, 84, 87, 19], [38, 35, 63, 79, 29, 55, 43, 81, 17, 86, 55, 18, 49, 22, 35, 10, 39, 30, 86, 37, 64, 12, 80, 84, 40, 78, 73, 21, 14, 32, 43, 16], [77, 55, 18, 53, 31, 21, 20, 78, 14, 13, 77, 82, 28, 36, 10, 63, 15, 15, 43, 69, 83, 32, 78, 41, 54, 55, 42, 40, 77, 21, 39, 55], [85, 72, 16, 75, 42, 41, 83, 20, 31, 39, 63, 73, 29, 17, 28, 87, 16, 59, 28, 55, 62, 72, 79, 76, 23, 64, 35, 39, 32, 79, 73, 40], [36, 47, 76, 32, 36, 76, 68, 48, 26, 72, 39, 18, 87, 73, 48, 38, 50, 20, 29, 71, 26, 78, 34, 70, 28, 23, 82, 19, 15, 43, 46, 41], [10, 52, 60, 52, 58, 40, 28, 82, 34, 67, 41, 13, 75, 45, 36, 87, 75, 12, 19, 23, 27, 63, 23, 11, 24, 83, 71, 87, 59, 76, 86, 50], [10, 35, 82, 66, 56, 81, 44, 42, 11, 32, 87, 39, 39, 30, 68, 20, 56, 39, 66, 15, 54, 63, 26, 58, 20, 75, 54, 37, 82, 82, 66, 81], [81, 84, 69, 48, 83, 79, 83, 31, 46, 68, 13, 27, 21, 77, 59, 80, 27, 86, 82, 11, 22, 54, 39, 37, 50, 72, 87, 60, 27, 52, 66, 42], [37, 49, 34, 74, 69, 65, 78, 51, 73, 86, 50, 58, 44, 61, 86, 61, 33, 46, 74, 20, 50, 32, 37, 52, 24, 24, 21, 27, 44, 40, 23, 46], [76, 33, 80, 41, 19, 50, 43, 62, 19, 15, 24, 50, 14, 12, 39, 13, 16, 83, 17, 24, 43, 58, 38, 21, 76, 32, 34, 67, 40, 58, 63, 55], [41, 81, 54, 63, 28, 41, 20, 25, 15, 67, 26, 44, 39, 36, 43, 24, 35, 51, 63, 86, 61, 82, 51, 29, 21, 86, 44, 33, 74, 42, 37, 43], [31, 18, 59, 67, 35, 82, 41, 23, 49, 16, 63, 82, 24, 17, 77, 52, 66, 51, 39, 32, 69, 58, 65, 31, 37, 68, 12, 28, 55, 29, 16, 83], [28, 68, 76, 10, 65, 79, 60, 41, 36, 83, 25, 22, 54, 38, 45, 38, 11, 42, 36, 85, 27, 64, 38, 59, 42, 25, 57, 75, 86, 74, 39, 12], [85, 70, 85, 78, 85, 83, 45, 72, 24, 38, 20, 84, 57, 76, 10, 81, 69, 16, 21, 85, 28, 71, 67, 44, 31, 74, 14, 54, 80, 16, 59, 68], [75, 74, 33, 48, 80, 12, 39, 11, 49, 62, 53, 82, 17, 67, 87, 76, 79, 41, 63, 19, 38, 41, 75, 34, 79, 77, 53, 39, 35, 35, 56, 67], [13, 28, 58, 61, 56, 79, 13, 32, 18, 85, 54, 68, 20, 42, 10, 65, 33, 57, 52, 43, 34, 12, 74, 50, 59, 81, 74, 35, 15, 34, 71, 14], [64, 33, 58, 18, 64, 72, 74, 57, 27, 81, 37, 86, 12, 23, 83, 20, 48, 52, 68, 19, 59, 47, 50, 17, 86, 49, 39, 31, 56, 31, 48, 57], [12, 11, 50, 45, 50, 59, 37, 12, 28, 67, 14, 16, 44, 77, 79, 70, 86, 69, 77, 28, 74, 45, 85, 19, 11, 33, 81, 46, 31, 54, 39, 71], [22, 83, 44, 46, 56, 30, 58, 77, 79, 67, 73, 19, 37, 37, 51, 20, 81, 21, 85, 56, 25, 27, 28, 72, 40, 65, 48, 40, 83, 34, 53, 65], [69, 42, 28, 50, 52, 81, 35, 86, 74, 50, 29, 62, 30, 57, 14, 34, 68, 68, 47, 87, 68, 41, 41, 17, 79, 81, 37, 59, 29, 42, 54, 83], [71, 48, 68, 65, 55, 32, 79, 16, 31, 34, 86, 63, 69, 21, 35, 71, 63, 78, 15, 81, 63, 82, 78, 10, 64, 50, 67, 54, 12, 17, 28, 46], [39, 15, 17, 64, 69, 78, 58, 13, 50, 28, 84, 31, 81, 29, 51, 24, 29, 40, 76, 72, 76, 17, 42, 41, 31, 11, 34, 21, 25, 32, 75, 84], [41, 10, 12, 50, 85, 26, 17, 18, 36, 33, 31, 30, 30, 69, 27, 45, 35, 87, 40, 80, 69, 41, 59, 62, 65, 16, 15, 77, 14, 76, 69, 59], [10, 73, 26, 59, 57, 46, 21, 82, 53, 56, 74, 49, 58, 45, 38, 83, 78, 28, 38, 54, 38, 56, 46, 15, 58, 22, 56, 45, 54, 12, 46, 30], [47, 69, 67, 33, 68, 51, 76, 65, 39, 56, 13, 38, 62, 20, 78, 24, 19, 67, 13, 73, 74, 60, 72, 53, 78, 36, 32, 22, 49, 69, 73, 29]], dtype=np.int32)"
      ],
      "execution_count": 21,
      "outputs": []
    },
    {
      "cell_type": "code",
      "source": [
        "print(unit_prices.shape)"
      ],
      "metadata": {
        "id": "pYbdx9roGefk"
      },
      "execution_count": null,
      "outputs": []
    },
    {
      "cell_type": "code",
      "source": [
        "print(unit_prices)"
      ],
      "metadata": {
        "id": "pw28mvy7TZB-"
      },
      "execution_count": null,
      "outputs": []
    },
    {
      "cell_type": "code",
      "source": [
        "print(num_sales.shape)"
      ],
      "metadata": {
        "id": "Rq_nHs-vGiL5"
      },
      "execution_count": null,
      "outputs": []
    },
    {
      "cell_type": "code",
      "source": [
        "print(num_sales)"
      ],
      "metadata": {
        "id": "HnwQC2vOTb2w"
      },
      "execution_count": null,
      "outputs": []
    },
    {
      "cell_type": "code",
      "source": [
        "num_products = unit_prices.shape[0]\n",
        "print(\"Number of Products =\", num_products) # Expected output: 32"
      ],
      "metadata": {
        "id": "6JgNNgHpGb5M"
      },
      "execution_count": null,
      "outputs": []
    },
    {
      "cell_type": "code",
      "source": [
        "num_days = 0 # PLEASE MODIFY\n",
        "print(\"Number of Days =\", num_days) # Expected output: 28"
      ],
      "metadata": {
        "id": "djvpRuR_G683"
      },
      "execution_count": null,
      "outputs": []
    },
    {
      "cell_type": "code",
      "source": [
        "third_product_price = 0 # PLEASE MODIFY\n",
        "print(\"The price of third product =\", third_product_price) # Expected output: 35"
      ],
      "metadata": {
        "id": "L22PKgg6HjSs"
      },
      "execution_count": null,
      "outputs": []
    },
    {
      "cell_type": "code",
      "source": [
        "price_total = sum(unit_prices)\n",
        "print(\"The total price of all products =\", price_total) # Expected output: 2040"
      ],
      "metadata": {
        "id": "xIknbVnPK-nE"
      },
      "execution_count": null,
      "outputs": []
    },
    {
      "cell_type": "code",
      "source": [
        "third_day_num_sales = 0 # PLEASE MODIFY\n",
        "print(\"Number of sales on third day =\", third_day_num_sales) # Expected output: 1764"
      ],
      "metadata": {
        "id": "cBLm3nq5IqhM"
      },
      "execution_count": null,
      "outputs": []
    },
    {
      "cell_type": "code",
      "source": [
        "third_day_total = 0 # PLEASE MODIFY\n",
        "print(\"Sales Amount on Third Day =\", third_day_total) # Expected output: 113216"
      ],
      "metadata": {
        "id": "TjADKQ6QLcjJ"
      },
      "execution_count": null,
      "outputs": []
    },
    {
      "cell_type": "code",
      "metadata": {
        "id": "G1_EoBbZwjsn"
      },
      "source": [
        "month_total = 0 # PLEASE MODIFY\n",
        "print(\"Total Sales Amount this Month =\", month_total) # Expected output: 2781320"
      ],
      "execution_count": null,
      "outputs": []
    },
    {
      "cell_type": "code",
      "metadata": {
        "id": "O9JKHCFy9Tfz"
      },
      "source": [
        "# Plot sales amount everyday.\n",
        "def plot_sales(days, totals):\n",
        "    plt.plot(days, totals)\n",
        "    plt.xlabel(\"Day\")\n",
        "    plt.ylabel(\"Total\")\n",
        "    plt.show()\n",
        "\n",
        "days = np.arange(1, num_sales.shape[0] + 1)\n",
        "totals = np.zeros(num_sales.shape[0]) # PLEASE MODIFY\n",
        "\n",
        "plot_sales(days, totals)"
      ],
      "execution_count": null,
      "outputs": []
    },
    {
      "cell_type": "markdown",
      "metadata": {
        "id": "j5ZOutjhzy0E"
      },
      "source": [
        "## 練習題（五）：PUI PUI 天竺鼠車車（pandas 版本）\n",
        "\n",
        "![](https://pbs.twimg.com/media/EuA3A19VIA8Qgnh?format=jpg&name=large)\n",
        "\n",
        "（[圖片來源](https://twitter.com/molcar_anime/status/1360861335303512064/photo/1)）\n",
        "\n",
        "拿到《PUI PUI 天竺鼠車車》資料的我們，經過上次的教訓學聰明了，決定直接將資料轉成 pandas 的 `DataFrame` 型別的物件，方便我們處理。今天，我們想要從這個物件（`df`）獲取以下資訊：\n",
        "- 所有角色的名字有哪些？請將結果轉成 list（`all_characters`）\n",
        "- 所有角色的平均高度為多少公分？（`all_avg_height`）\n",
        "- 所有角色的平均體重為多少公斤？（`all_avg_weight`）\n",
        "- 顏色為咖啡色（`brown`）的角色名字有哪些？請將結果轉成 list（`brown_characters`）\n",
        "- 主要角色的名字有哪些？請將結果轉成 list（`main_characters`）\n",
        "- 主要角色的平均高度多少公分？（`main_avg_height`）\n",
        "- 角色體重超過（含） 1800 公斤的名字有哪些？請將結果轉成 list（`heavy_characters`）\n",
        "- 請畫出所有角色的散佈圖，其中 x 軸為車體長度，y 軸為車體寬度，結果類似圖一\n",
        "\n",
        "`df` 各個 column name 的意義如下：\n",
        "- `name`：名字\n",
        "- `is_main`:是否為主要角色，*1* 代表是，*0* 代表不是\n",
        "- `color`：顏色\n",
        "- `width`：車體寬度（公分）\n",
        "- `length`：車體長度（公分）\n",
        "- `height`：車體高度（公分）\n",
        "- `weight`：體重（公斤）\n",
        "\n",
        "[提示] 你可能需要了解以下知識：\n",
        "- *pands* 的 `DataFrame` 常用功能，例如資料獲取、篩選、統計、型別轉換、視覺化等\n",
        "\n",
        "圖一：\n",
        "\n",
        "![](https://i.imgur.com/T1AHSca.png)\n"
      ]
    },
    {
      "cell_type": "code",
      "metadata": {
        "id": "v5vC_wRa3dYl"
      },
      "source": [
        "!pip install pandas matplotlib"
      ],
      "execution_count": 38,
      "outputs": []
    },
    {
      "cell_type": "code",
      "metadata": {
        "id": "2sl6DxP43eSq"
      },
      "source": [
        "import matplotlib.pyplot as plt\n",
        "import pandas as pd"
      ],
      "execution_count": 39,
      "outputs": []
    },
    {
      "cell_type": "code",
      "metadata": {
        "id": "hXA55HclBwjI"
      },
      "source": [
        "df = pd.DataFrame({\n",
        "    \"name\": [\"POTATO\", \"SHIROMO\", \"ABBEY\", \"CHOCO\", \"TEDDY\", \"POSTAL\", \"HAMBER\", \"ADVENTURE\", \"WEDDING\"],\n",
        "    \"is_main\": [1, 1, 1, 1, 1, 0, 0, 0, 0],\n",
        "    \"color\": [\"yellow\", \"white\", \"yellow\", \"brown\", \"brown\", \"red\", \"yellow\", \"brown\", \"white\"],\n",
        "    \"width\": [173, 149, 136, 169, 147, 165, 136, 175, 176],\n",
        "    \"length\": [379, 359, 343, 305, 371, 370, 353, 308, 304],\n",
        "    \"height\": [144, 177, 182, 171, 210, 251, 247, 133, 216],\n",
        "    \"weight\": [1500, 1236, 1329, 1725, 1640, 1926, 1648, 1588, 1893],\n",
        "})\n",
        "\n",
        "print(df)"
      ],
      "execution_count": null,
      "outputs": []
    },
    {
      "cell_type": "code",
      "source": [
        "all_characters = df[\"name\"].to_list()\n",
        "print(\"All Characters =\", all_characters) # Expected output: [\"POTATO\", \"SHIROMO\", \"ABBEY\", \"CHOCO\", \"TEDDY\", \"POSTAL\", \"HAMBER\", \"ADVENTURE\", \"WEDDING\"]"
      ],
      "metadata": {
        "id": "_PwmuUFgPxCN"
      },
      "execution_count": null,
      "outputs": []
    },
    {
      "cell_type": "code",
      "source": [
        "all_avg_height = df[\"height\"].mean()\n",
        "print(\"Average Height of All Characters =\", all_avg_height) # Expected output: 192.33333333333334"
      ],
      "metadata": {
        "id": "VIXWK_5oP068"
      },
      "execution_count": null,
      "outputs": []
    },
    {
      "cell_type": "code",
      "source": [
        "all_avg_weight = 0.0 # PLEASE MODIFY\n",
        "print(\"Average Weight of All Characters =\", all_avg_weight) # Expected output: 1609.4444444444443"
      ],
      "metadata": {
        "id": "C3WGpYtqQZux"
      },
      "execution_count": null,
      "outputs": []
    },
    {
      "cell_type": "code",
      "source": [
        "brown_characters = df[df[\"color\"] == \"brown\"][\"name\"].tolist()\n",
        "print(\"Brown Characters =\", brown_characters) # Expected output: [\"CHOCO\", \"TEDDY\", \"ADVENTURE\"]"
      ],
      "metadata": {
        "id": "J-SfWR8HQu2k"
      },
      "execution_count": null,
      "outputs": []
    },
    {
      "cell_type": "code",
      "source": [
        "main_characters = [] # PLEASE MODIFY\n",
        "print(\"Main Characters =\", main_characters) # Expected output: [\"POTATO\", \"SHIROMO\", \"ABBEY\", \"CHOCO\", \"TEDDY\"]"
      ],
      "metadata": {
        "id": "mHXnBdq9P4qM"
      },
      "execution_count": null,
      "outputs": []
    },
    {
      "cell_type": "code",
      "source": [
        "main_avg_height = 0.0 # PLEASE MODIFY\n",
        "print(\"Average Height of Main Characters =\", main_avg_height) # Expected output: 176.8"
      ],
      "metadata": {
        "id": "8FQveE0iRUdp"
      },
      "execution_count": null,
      "outputs": []
    },
    {
      "cell_type": "code",
      "metadata": {
        "id": "aBbTGLn09iGH"
      },
      "source": [
        "heavy_characters = [] # PLEASE MODIFY\n",
        "print(\"Heavy Characters (weight >= 1800) =\", heavy_characters) # Expected output: [\"POSTAL\", \"WEDDING\"]"
      ],
      "execution_count": null,
      "outputs": []
    },
    {
      "cell_type": "code",
      "metadata": {
        "id": "sBmZKULlDu9z"
      },
      "source": [
        "df.plot.scatter() # PLEASE MODIFY\n",
        "plt.show()"
      ],
      "execution_count": null,
      "outputs": []
    }
  ]
}