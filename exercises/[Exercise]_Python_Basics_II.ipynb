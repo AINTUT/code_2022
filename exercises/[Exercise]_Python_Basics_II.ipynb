{
  "nbformat": 4,
  "nbformat_minor": 0,
  "metadata": {
    "colab": {
      "name": "[Exercise] Python Basics II.ipynb",
      "provenance": [],
      "collapsed_sections": []
    },
    "kernelspec": {
      "name": "python3",
      "display_name": "Python 3"
    }
  },
  "cells": [
    {
      "cell_type": "markdown",
      "metadata": {
        "id": "hI7hcU3_yQv2"
      },
      "source": [
        "This notebook is freely available for redistribution under the [GPL-3.0 license](https://choosealicense.com/licenses/gpl-3.0/).\n",
        "\n",
        "Author: 蘇嘉冠"
      ]
    },
    {
      "cell_type": "markdown",
      "metadata": {
        "id": "Na0_QjevL_F5"
      },
      "source": [
        "# [Exercise] Python 基礎練習（二）"
      ]
    },
    {
      "cell_type": "markdown",
      "metadata": {
        "id": "xGEuxLe0YRAm"
      },
      "source": [
        "## 練習題的編寫規則\n",
        "\n",
        "基本上每個練習題，都會有題目的說明、程式碼區塊與預期的答案等。請注意的是程式碼區塊已經有先設定好的變數名稱、順序等，因此除了有出現類似 `# PLEASE MODIFY` 的區塊之外，**請盡量不要更動裡面的內容**，避免得到錯的結果。"
      ]
    },
    {
      "cell_type": "markdown",
      "source": [
        "## 練習題（一）：今早我想來點...\n",
        "\n",
        "某家早餐店分別在兩大知名外送平台：父龐德與巫婆姨上架。身為消費的我們，為了方便精打細算，將兩邊的商品價格分別由不同的 *dict* 儲存（`price_bond` 以及 `price_witch`），其中 *key* 為商品名稱，*value* 為商品單價。請試著得到：\n",
        "- 父龐德的三明治（*key*: `sandwitch`）價格為多少（`sandwitch_bond_price`）？\n",
        "- 父龐德的三明治比巫婆姨貴多少（`sandwitch_diff`）？\n",
        "- 如果透過巫婆姨購買 1 份沙拉（*key*: `salad`）、2 份鬆餅（*key*: `pencake`） 、3 杯咖啡（*key*: `coffee`），含運費（*key*: `delivery`）總共多少元（`meal_price`）？\n",
        "- 請列出所有在巫婆姨上架的餐點名稱（包含運費），儲存在一個 *list* 裡（`witch_items`）\n",
        "- 如果將父龐德的所有餐點都各點一份，含運費總共是多少（`bond_all_price`）？\n",
        "- 如果父龐德的運費改成 45 元，新的 *dict* 內容應該會是如何（`price_bond_new`）？\n",
        "\n",
        "[提示] 你可能要了解以下幾個功能的運作方式：\n",
        "- *dict* 的基本存取\n",
        "- *dict.keys()*\n",
        "- *dict.values()*\n",
        "- *sum()*"
      ],
      "metadata": {
        "id": "1Uj2x8xb6wQJ"
      }
    },
    {
      "cell_type": "code",
      "source": [
        "price_bond = {\n",
        "    \"sandwitch\": 55,\n",
        "    \"salad\": 85,\n",
        "    \"pencake\": 75,\n",
        "    \"coffee\": 45,\n",
        "    \"tea\": 20,\n",
        "    \"hotdog\": 25,\n",
        "    \"begal\": 55,\n",
        "    \"delivery\": 30,\n",
        "}\n",
        "\n",
        "price_witch = {\n",
        "    \"sandwitch\": 40,\n",
        "    \"salad\": 90,\n",
        "    \"pencake\": 65,\n",
        "    \"coffee\": 50,\n",
        "    \"tea\": 20,\n",
        "    \"hotdog\": 25,\n",
        "    \"begal\": 55,\n",
        "    \"delivery\": 29,\n",
        "}"
      ],
      "metadata": {
        "id": "pSIXP2-6_gBX"
      },
      "execution_count": 1,
      "outputs": []
    },
    {
      "cell_type": "code",
      "source": [
        "sandwitch_bond_price = price_bond[\"sandwitch\"] \n",
        "print(\"The price of sandwitch for Bond =\", sandwitch_bond_price) # Expected output: 55"
      ],
      "metadata": {
        "id": "CKqfmc9KA5y8"
      },
      "execution_count": null,
      "outputs": []
    },
    {
      "cell_type": "code",
      "source": [
        "sandwitch_diff = 0 # PLEASE MODIFY\n",
        "print(\"The difference of sandwitch price =\", sandwitch_diff) # Expected output: 15"
      ],
      "metadata": {
        "id": "t6X87DPH__Za"
      },
      "execution_count": null,
      "outputs": []
    },
    {
      "cell_type": "code",
      "source": [
        "meal_price = 0 # PLEASE MODIFY\n",
        "print(\"The total price of the meal =\", meal_price) # Expected output: 399"
      ],
      "metadata": {
        "id": "ClkF2okXCePo"
      },
      "execution_count": null,
      "outputs": []
    },
    {
      "cell_type": "code",
      "source": [
        "witch_items = [] # PLEASE MODIFY\n",
        "print(\"Items list of Witch:\", witch_items) # Expected output: ['sandwitch', 'salad', 'pencake', 'coffee', 'tea', 'hotdog', 'begal', 'delivery']"
      ],
      "metadata": {
        "id": "HOBHFJx_F51a"
      },
      "execution_count": null,
      "outputs": []
    },
    {
      "cell_type": "code",
      "source": [
        "bond_all_price = 0 # PLEASE MODIFY\n",
        "print(\"The all price of Bond =\", bond_all_price) # Expected output: 390"
      ],
      "metadata": {
        "id": "W_7rPRh5EPlC"
      },
      "execution_count": null,
      "outputs": []
    },
    {
      "cell_type": "code",
      "source": [
        "price_bond_new = price_bond.copy()\n",
        "price_bond_new[\"delivery\"] = 0 # PLEASE MODIFY\n",
        "print(\"The new price dict of Bond:\", price_bond_new) # Expected output:  {'sandwitch': 55, 'salad': 85, 'pencake': 75, 'coffee': 45, 'tea': 20, 'hotdog': 25, 'begal': 55, 'delivery': 45}"
      ],
      "metadata": {
        "id": "egodW3ItGlwL"
      },
      "execution_count": null,
      "outputs": []
    },
    {
      "cell_type": "markdown",
      "source": [
        "## 練習題（二）：視力檢查\n",
        "\n",
        "某學校的所有學生做了視力檢查，並將每位同學的視力記錄下來（`visions`）。我們想從中了解以下資訊：\n",
        "- 如果我們定義視力大於等於 1.0 為好視力（`good_vision`），否則為差視力（`bad_vision`），那第 3 位同學是屬於哪種（`third_level`）？\n",
        "- 同上題，但請將判斷式改成一行的版本（`third_level_line`）\n",
        "- 如果視力小於等於 0.8 要配戴眼鏡，眼鏡價格：視力 0.5（不含） 到 0.8（含）區間為 1,200 元，0.5（含）以下為 3,500 元，那請問第 7 位同學的眼鏡價格為多少（`seventh_glasses_price`）？\n",
        "- 是否有視力剛好為 1.5 的人（`has_super_vision`）？\n",
        "- 請用 for 迴圈的方法，算出所有人的平均視力（`avg_vision`）\n",
        "- 請用 while 迴圈的方法，算出所有人的平均視力（`avg_vision_while`）\n",
        "- 屬於好視力的總共有多少人（`good_vision_count`）？\n",
        "- 請列出所有屬於好視力的順序編號，編號從 0 開始計算（`good_vision_indices`）\n",
        "- 同上題，但請用 Comprehension 的方式寫（`good_vision_indices_com`）\n",
        "\n",
        "[提示] 你可能要了解以下幾個功能的運作方式：\n",
        "- *if* 以及 *condition* 的基本觀念\n",
        "- *list* 的 *in* 判斷\n",
        "- *for* 的基本觀念\n",
        "- *while* 的基本觀念\n",
        "- *enumerate()*\n",
        "- *list* 的 *Comprehension*"
      ],
      "metadata": {
        "id": "-2t89PP2389C"
      }
    },
    {
      "cell_type": "code",
      "source": [
        "visions = [1.3, 0.8, 1.3, 0.7, 1.0, 1.4, 0.4, 0.9, 0.2, 0.9, 0.7, 0.1, 1.3, 0.6, 1.1, 0.9, 0.2, 0.4, 0.3, 0.6, 1.0, 1.4, 1.0, 0.1, 0.3, 1.4, 0.4, 1.3, 1.4, 0.1, 1.2, 1.3, 1.3, 1.0, 1.1, 0.6, 1.4, 0.5, 0.1, 1.1, 0.9, 0.4, 0.7, 1.4, 0.1, 0.1, 0.4, 0.9, 0.3, 0.6, 0.7, 0.7, 0.9, 0.2, 1.4, 0.9, 0.7, 1.1, 0.6, 0.6, 0.3, 0.6, 0.1, 0.9, 0.2, 0.5, 0.8, 0.3, 1.1, 1.3, 1.0, 0.4, 0.2, 1.2, 1.1, 0.9, 0.3, 1.2, 0.4, 0.5, 0.3, 0.8, 0.4, 1.3, 0.2, 0.6, 0.3]"
      ],
      "metadata": {
        "id": "WaIbFfpa6qta"
      },
      "execution_count": 10,
      "outputs": []
    },
    {
      "cell_type": "code",
      "source": [
        "third_vision = visions[2]\n",
        "\n",
        "if False: # PLEASE MODIFY\n",
        "    third_level = \"good_vision\"\n",
        "else:\n",
        "    third_level = \"bad_vision\"\n",
        "\n",
        "print(\"The level of third person =\", third_level) # Expected output: \"bad_vision\""
      ],
      "metadata": {
        "id": "xj0Z4G6I6rlG"
      },
      "execution_count": null,
      "outputs": []
    },
    {
      "cell_type": "code",
      "source": [
        "third_vision = visions[2]\n",
        "\n",
        "third_level_line = \"good_vision\" if False else \"bad_vision\" # PLEASE MODIFY\n",
        "\n",
        "print(\"The level of third person =\", third_level_line) # Expected output: \"bad_vision\""
      ],
      "metadata": {
        "id": "yorL_YL27UFn"
      },
      "execution_count": null,
      "outputs": []
    },
    {
      "cell_type": "code",
      "source": [
        "seventh_vision = visions[6]\n",
        "\n",
        "if seventh_vision > 0.8:\n",
        "    seventh_glasses_price = 0\n",
        "elif True: # PLEASE MODIFY\n",
        "    seventh_glasses_price = 0 # PLEASE MODIFY\n",
        "else:\n",
        "    seventh_glasses_price = 0 # PLEASE MODIFY\n",
        "\n",
        "print(\"The glasses price of seventh person =\", seventh_glasses_price) # Expected output: 3500"
      ],
      "metadata": {
        "id": "ElsvmFhL9zZf"
      },
      "execution_count": null,
      "outputs": []
    },
    {
      "cell_type": "code",
      "source": [
        "has_super_vision = True\n",
        "print(\"Is there person having super vision?\", has_super_vision) # Expected output: False"
      ],
      "metadata": {
        "id": "yifEmOBr_Bm2"
      },
      "execution_count": null,
      "outputs": []
    },
    {
      "cell_type": "code",
      "source": [
        "sum_vision = 0.0\n",
        "\n",
        "for vision in []: # PLEASE MODIFY\n",
        "    sum_vision = sum_vision + vision\n",
        "\n",
        "avg_vision = sum_vision / len(visions)\n",
        "print(\"The average vision =\", avg_vision) # Expected output: 0.7344827586206897"
      ],
      "metadata": {
        "id": "U46JKYjp_911"
      },
      "execution_count": null,
      "outputs": []
    },
    {
      "cell_type": "code",
      "source": [
        "sum_vision = 0.0\n",
        "index_vision = 0\n",
        "\n",
        "while index_vision < 0: # PLEASE MODIFY\n",
        "    sum_vision = sum_vision + visions[index_vision]\n",
        "    index_vision = index_vision + 1\n",
        "\n",
        "avg_vision_while = sum_vision / len(visions)\n",
        "print(\"The average vision =\", avg_vision_while) # Expected output: 0.7344827586206897"
      ],
      "metadata": {
        "id": "yQDv1dhKA_bt"
      },
      "execution_count": null,
      "outputs": []
    },
    {
      "cell_type": "code",
      "source": [
        "good_vision_count = 0\n",
        "\n",
        "for vision in []: # PLEASE MODIFY\n",
        "    if True: # PLEASE MODIFY\n",
        "        good_vision_count = good_vision_count + 1\n",
        "\n",
        "print(\"The number of persons that have good vision =\", good_vision_count) # Expected output: 29"
      ],
      "metadata": {
        "id": "r0lB3jKjB1jx"
      },
      "execution_count": null,
      "outputs": []
    },
    {
      "cell_type": "code",
      "source": [
        "good_vision_indices = []\n",
        "\n",
        "for index, vision in []: # PLEASE MODIFY\n",
        "    if True: # PLEASE MODIFY\n",
        "        good_vision_indices.append(index)\n",
        "\n",
        "print(\"The list of persons that have good vision =\", good_vision_indices) # Expected output: [0, 2, 4, 5, 12, 14, 20, 21, 22, 25, 27, 28, 30, 31, 32, 33, 34, 36, 39, 43, 54, 57, 68, 69, 70, 73, 74, 77, 83]"
      ],
      "metadata": {
        "id": "V5J8QnCVDdfS"
      },
      "execution_count": null,
      "outputs": []
    },
    {
      "cell_type": "code",
      "source": [
        "good_vision_indices_com = [index for index, vision in enumerate(visions)] # PLEASE MODIFY\n",
        "\n",
        "print(\"The list of persons that have good vision =\", good_vision_indices_com) # Expected output: [0, 2, 4, 5, 12, 14, 20, 21, 22, 25, 27, 28, 30, 31, 32, 33, 34, 36, 39, 43, 54, 57, 68, 69, 70, 73, 74, 77, 83]"
      ],
      "metadata": {
        "id": "47hsZpweETlt"
      },
      "execution_count": null,
      "outputs": []
    },
    {
      "cell_type": "markdown",
      "metadata": {
        "id": "5hNK0uCKbc8c"
      },
      "source": [
        "## 練習題（三）：文章單字統計\n",
        "\n",
        "我們有一篇取自[白鯨記](https://en.wikipedia.org/wiki/Moby-Dick)小說的英文文章片段：`article`。請試著從這篇文章片段取出一些關於英文單字（**不分大小寫**）的資訊，包含：\n",
        "- 出現最多次的單字為何？（`most_freq_word`）\n",
        "- 出現最多次的單字的次數為多少？（`most_freq_num`）\n",
        "- \"nothing\" 出現的的次數為多少？（`nothing_freq`）\n",
        "- 出現 5 次的單字有哪些？（`freq_five_words`）\n"
      ]
    },
    {
      "cell_type": "code",
      "metadata": {
        "id": "7zbuoVwJb_84"
      },
      "source": [
        "article = \\\n",
        "    \"Call me Ishmael. Some years ago, never mind how long precisely,\\n\" \\\n",
        "    \"having little or no money in my purse, and nothing particular\\n\" \\\n",
        "    \"to interest me on shore, I thought I would sail about a little\\n\" \\\n",
        "    \"and see the watery part of the world. It is a way I have\\n\" \\\n",
        "    \"of driving off the spleen and regulating the circulation.\\n\" \\\n",
        "    \"Whenever I find myself growing grim about the mouth.\\n\" \\\n",
        "    \"whenever it is a damp, drizzly November in my soul. whenever I\\n\" \\\n",
        "    \"find myself involuntarily pausing before coffin warehouses,\\n\" \\\n",
        "    \"and bringing up the rear of every funeral I meet.\\n\" \\\n",
        "    \"and especially whenever my hypos get such an upper hand of me,\\n\" \\\n",
        "    \"that it requires a strong moral principle to prevent me from\\n\" \\\n",
        "    \"deliberately stepping into the street, and methodically knocking\\n\" \\\n",
        "    \"hats of people off, then, I account it high time to get to sea\\n\" \\\n",
        "    \"as soon as I can. This is my substitute for pistol and ball.\\n\" \\\n",
        "    \"With a philosophical flourish Cato throws himself upon his sword.\\n\" \\\n",
        "    \"I quietly take to the ship. There is nothing surprising in this.\\n\" \\\n",
        "    \"If they but knew it, almost all men in their degree, some time\\n\" \\\n",
        "    \"or other, cherish very nearly the same feelings towards\\n\" \\\n",
        "    \"the ocean with me.\\n\" \\\n",
        "    \"There now is your insular city of the Manhattoes, belted round by wharves\\n\" \\\n",
        "    \"as Indian isles by coral reefs, commerce surrounds it with her surf.\\n\" \\\n",
        "    \"Right and left, the streets take you waterward. Its extreme downtown\\n\" \\\n",
        "    \"is the battery, where that noble mole is washed by waves, and cooled\\n\" \\\n",
        "    \"by breezes, which a few hours previous were out of sight of land.\\n\" \\\n",
        "    \"Look at the crowds of water-gazers there.\"\n",
        "\n",
        "print(article)"
      ],
      "execution_count": null,
      "outputs": []
    },
    {
      "cell_type": "code",
      "metadata": {
        "id": "DiqAInxfhQ70"
      },
      "source": [
        "# Pre-processing the article by using methods about string.\n",
        "article_preprocessed = article.replace(\",\", \"\")\n",
        "article_preprocessed = article_preprocessed.replace(\"\", \"\") # PLEASE MODIFY: replace \".\" by \"\"\n",
        "article_preprocessed = article_preprocessed.replace(\"\", \"\") # PLEASE MODIFY: replace \"\\n\" by \" \"\n",
        "article_preprocessed = article_preprocessed.lower()\n",
        "\n",
        "# You should get a line of string that only contains lower-case English words\n",
        "# and white spaces.\n",
        "print(article_preprocessed)"
      ],
      "execution_count": null,
      "outputs": []
    },
    {
      "cell_type": "code",
      "source": [
        "# Split the article into words.\n",
        "words = article_preprocessed.split(\" \")\n",
        "print(words)"
      ],
      "metadata": {
        "id": "8nIL7l6hG0Jg"
      },
      "execution_count": null,
      "outputs": []
    },
    {
      "cell_type": "code",
      "metadata": {
        "id": "ZZ0xFvdxme2r"
      },
      "source": [
        "# Count the word frequencies by constructing a dict that key is word, value is\n",
        "# the word's frequency. For example:\n",
        "# {\n",
        "#     \"call\": 1,\n",
        "#     \"me\": 5,\n",
        "# }\n",
        "word_freq = {}\n",
        "for word in words:\n",
        "    if word not in word_freq:\n",
        "        # PLEASE MODIFY CODE BELOW\n",
        "        pass\n",
        "    else:\n",
        "        # PLEASE MODIFY CODE BELOW\n",
        "        pass\n",
        "\n",
        "print(word_freq)"
      ],
      "execution_count": null,
      "outputs": []
    },
    {
      "cell_type": "code",
      "metadata": {
        "id": "SJj837SpqUYS"
      },
      "source": [
        "# Now, we want to get the most frequent word and its count.\n",
        "most_freq_word = \"\"\n",
        "most_freq_num = 0\n",
        "for word, freq in word_freq.items():\n",
        "    if freq > most_freq_num:\n",
        "        # PLEASE MODIFY CODE BELOW\n",
        "        pass\n",
        "\n",
        "print(\"Most Frequent Word =\", most_freq_word) # Expected output: \"the\"\n",
        "print(\"Count for Most Frequent Word =\", most_freq_num) # Expected output: 14"
      ],
      "execution_count": null,
      "outputs": []
    },
    {
      "cell_type": "code",
      "metadata": {
        "id": "OdSuQrUvqZnn"
      },
      "source": [
        "# Get the frequency count of \"nothing\".\n",
        "nothing_freq = 0 # PLEASE MODIFY\n",
        "print(\"Frequency of \\\"nothing\\\" =\", nothing_freq) # Expected output: 2"
      ],
      "execution_count": null,
      "outputs": []
    },
    {
      "cell_type": "code",
      "metadata": {
        "id": "8fpAyWrQuBap"
      },
      "source": [
        "# Find words whose frequency is 5 and put the words into the list.\n",
        "freq_five_words = []\n",
        "for word, freq in word_freq.items():\n",
        "    # PLEASE MODIFY CODE BELOW\n",
        "    pass\n",
        "\n",
        "print(\"Words whose Frequencies is 5 =\", freq_five_words) # Expected output: [\"me\", \"to\"]"
      ],
      "execution_count": null,
      "outputs": []
    },
    {
      "cell_type": "markdown",
      "metadata": {
        "id": "j5ZOutjhzy0E"
      },
      "source": [
        "## 練習題（四）：PUI PUI 天竺鼠車車\n",
        "\n",
        "![](https://pbs.twimg.com/media/ErXPkNeVcAE4tOs?format=jpg&name=medium)\n",
        "\n",
        "([圖片來源](https://twitter.com/molcar_anime/status/1348223064723628033/photo/1))\n",
        "\n",
        "[《PUI PUI 天竺鼠車車》](https://en.wikipedia.org/wiki/Pui_Pui_Molcar)是日本原創電視定格動畫，在 2021 年於日本電視台播映。「天竺鼠車車」是以天竺鼠為原型的車輛，並且在這部動畫中擔任主要的角色。\n",
        "\n",
        "我們透過了各種管道，終於從製作團隊取得了劇情中各種車車的角色資料。只是取得資料後，才發現資料為 csv（comma-separated values）格式，我們必須對資料（變數名稱為 `raw_data`）做處理，並且取得以下我們有興趣的資訊：\n",
        "- 所有主要角色的名字？（`main_characters`）\n",
        "- 有哪些角色的顏色為棕色？（`brown_characters`）\n",
        "- 有哪些角色的體重超過（含） 1800 公斤？（`heavy_characters`）\n",
        "- \"POTATO\" 的體積是否比 \"CHOCO\" 還大？（`potato_larger_choco`）\n",
        "    - 體積計算方式：車體寬度 * 車體長度 * 車體高度\n",
        "\n",
        "`raw_data` 各個欄位的意義如下：\n",
        "- `name`：名字\n",
        "- `is_main`:是否為主要角色，*1* 代表是，*0* 代表不是\n",
        "- `color`：顏色\n",
        "- `width`：車體寬度（公分）\n",
        "- `length`：車體長度（公分）\n",
        "- `height`：車體高度（公分）\n",
        "- `weight`：體重（公斤）\n",
        "\n"
      ]
    },
    {
      "cell_type": "code",
      "metadata": {
        "id": "hXA55HclBwjI"
      },
      "source": [
        "raw_data = \\\n",
        "    \"name,is_main,color,width,length,height,weight\\n\" \\\n",
        "    \"POTATO,1,yellow,173,379,144,1500\\n\" \\\n",
        "    \"SHIROMO,1,white,149,359,177,1236\\n\" \\\n",
        "    \"ABBEY,1,yellow,136,343,182,1329\\n\" \\\n",
        "    \"CHOCO,1,brown,169,305,171,1725\\n\" \\\n",
        "    \"TEDDY,1,brown,147,371,210,1640\\n\" \\\n",
        "    \"POSTAL,0,red,165,370,251,1926\\n\" \\\n",
        "    \"HAMBER,0,yellow,136,353,247,1648\\n\" \\\n",
        "    \"ADVENTURE,0,brown,175,308,133,1588\\n\" \\\n",
        "    \"WEDDING,0,white,176,304,216,1893\\n\"\n",
        "\n",
        "print(raw_data)"
      ],
      "execution_count": null,
      "outputs": []
    },
    {
      "cell_type": "code",
      "source": [
        "# Split the raw text data into raw lines, each line represents a role in string format.\n",
        "raw_lines = raw_data.split(\"\\n\")[1:-1]\n",
        "print(raw_lines)"
      ],
      "metadata": {
        "id": "hkBFPMMIKXMv"
      },
      "execution_count": null,
      "outputs": []
    },
    {
      "cell_type": "code",
      "source": [
        "# For each role line, extract detailed information by splitting the string.\n",
        "# The result is a nested list (i.e., list of list).\n",
        "role_lines = [raw_line.split(\",\") for raw_line in raw_lines]\n",
        "print(role_lines)"
      ],
      "metadata": {
        "id": "3XXqyWmFK8Gh"
      },
      "execution_count": null,
      "outputs": []
    },
    {
      "cell_type": "code",
      "source": [
        "# Convert above role lines into a nested dict (i.e. dict of dict).\n",
        "# The dict may look like as follows:\n",
        "# {\n",
        "#     \"POTATO\":\n",
        "#     {\n",
        "#         \"is_main\": true,\n",
        "#         \"color\": \"yellow\",\n",
        "#         \"width\": 173,\n",
        "#         \"length\": 379,\n",
        "#         \"height\": 144,\n",
        "#         \"weight\": 1500,\n",
        "#         \"volume\": 9441648\n",
        "#     },\n",
        "#     \"SHIROMO\": {\n",
        "#         \"is_main\": true,\n",
        "#         \"color\": \"white\",\n",
        "#         \"width\": 149,\n",
        "#         \"length\": 359,\n",
        "#         \"height\": 177,\n",
        "#         \"weight\": 1236,\n",
        "#         \"volume\": 9467907\n",
        "#     },\n",
        "# }\n",
        "characters = {}\n",
        "for line in role_lines:\n",
        "    name = line[0]\n",
        "    characters[name] = {\n",
        "        \"is_main\": True, # PLEASE MODIFY: a boolean to indicate the role is main character or not.\n",
        "        \"color\": \"\", # PLEASE MODIFY: a string to store its color.\n",
        "        \"width\": int(line[3]), # An integer to store its width.\n",
        "        \"length\": 0, # PLEASE MODIFY: an integer to store its width.\n",
        "        \"height\": 0, # PLEASE MODIFY: an integer to store its height.\n",
        "        \"weight\": 0, # PLEASE MODIFY: an integer to store its weight.\n",
        "    }\n",
        "    characters[name][\"volume\"] = characters[name][\"width\"] * characters[name][\"length\"] * characters[name][\"height\"] # PLEASE MODIFY: an integer to store its volume (i.e., width * length * height).\n",
        "\n",
        "print(characters)"
      ],
      "metadata": {
        "id": "l803Ou9TMJlj"
      },
      "execution_count": null,
      "outputs": []
    },
    {
      "cell_type": "code",
      "source": [
        "# Identify main characters.\n",
        "main_characters = [name for name, prop in characters.items()] # PLEASE MODIFY\n",
        "print(\"Main Characters =\", main_characters) # Expected output: [\"POTATO\", \"SHIROMO\", \"ABBEY\", \"CHOCO\", \"TEDDY\"]"
      ],
      "metadata": {
        "id": "tq5F8TtROYpt"
      },
      "execution_count": null,
      "outputs": []
    },
    {
      "cell_type": "code",
      "source": [
        "# Identify brown characters.\n",
        "brown_characters = [] # PLEASE MODIFY\n",
        "print(\"Brown Characters =\", brown_characters) # Expected output: [\"CHOCO\", \"TEDDY\", \"ADVENTURE\"]"
      ],
      "metadata": {
        "id": "Xg0_SAqOOhpv"
      },
      "execution_count": null,
      "outputs": []
    },
    {
      "cell_type": "code",
      "source": [
        "# Identify characters whose weight is >= 1800\n",
        "heavy_characters = [] # PLEASE MODIFY\n",
        "print(\"Heavy Characters =\", heavy_characters) # Expected output: [\"POSTAL\", \"WEDDING\"]"
      ],
      "metadata": {
        "id": "Q7tGBjOHOyt-"
      },
      "execution_count": null,
      "outputs": []
    },
    {
      "cell_type": "code",
      "metadata": {
        "id": "aQtcsI2o9qb7"
      },
      "source": [
        "potato_larger_choco = False\n",
        "print(\"Is POTATO Larger than CHOCO?\", potato_larger_choco) # Expected output: True"
      ],
      "execution_count": null,
      "outputs": []
    }
  ]
}